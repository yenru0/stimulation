{
 "cells": [
  {
   "cell_type": "code",
   "execution_count": 1,
   "metadata": {
    "ExecuteTime": {
     "end_time": "2021-06-20T15:43:42.460211Z",
     "start_time": "2021-06-20T15:43:42.150174Z"
    }
   },
   "outputs": [],
   "source": [
    "import os\n",
    "\n",
    "import numpy as np\n",
    "import matplotlib.pyplot as plt\n",
    "import matplotlib.animation as animation\n",
    "import matplotlib.ticker as ticker\n",
    "import IPython.display\n",
    "\n",
    "np.set_printoptions(precision=3)\n",
    "\n",
    "plt.rcParams['font.family'] = [\"D2Coding\"]\n",
    "\n",
    "NOTEBOOK_ID = \"LAWS_OF_DIFFUSION\"\n",
    "OUTPUT_PATH = f\"out/{NOTEBOOK_ID}/\"\n",
    "\n",
    "if not os.path.isdir(OUTPUT_PATH):\n",
    "    os.mkdir(OUTPUT_PATH)\n"
   ]
  },
  {
   "cell_type": "markdown",
   "metadata": {},
   "source": [
    "# 픽의 확산 법칙(Fick's laws of diffusion)\n",
    "\n",
    "## 1법칙\n",
    "\n",
    "입자의 확산 유량과 입자의 밀도의 변화량과의 관계.\n",
    "\n",
    "계의 부피가 일정하다는 조건 아래 **확산 유량** $\\mathbf J$는 밀도 $n(x)$의 기울기와 비례, 그리고 비례 상수 $D$를 **확산 상수**라고 함.\n",
    "\n",
    "$$\\mathbf{J}(x)=-D\\nabla n(x)$$\n",
    "\n",
    "1차원 상에서만 놀거니까 다음과 같이 보면 안될까?\n",
    "\n",
    "$$\\mathbf{J}(x)=-D\\frac{\\mathrm{d}n(x)}{\\mathrm{d}x}$$\n",
    "\n",
    "## 2법칙\n",
    "\n",
    "연속 방정식에 따라\n",
    "\n",
    "$$\\frac{\\partial n}{\\partial t}(x)=\\nabla\\cdot(D(x)\\nabla n(x))$$\n",
    "\n",
    "이때 확산 상수 $D$가 일정하면, 이는 열방정식 꼴이 된다고 한다.\n",
    "\n",
    "$$\\frac{\\partial n}{\\partial t}(x)=D\\nabla^2 n(x)$$\n",
    "\n",
    "1차원 상에서 놀거니까\n",
    "\n",
    "$$\\frac{\\partial}{\\partial t}n(x)=D\\frac{\\partial^2}{\\partial x^2}n(x)$$"
   ]
  },
  {
   "cell_type": "code",
   "execution_count": 2,
   "metadata": {
    "ExecuteTime": {
     "end_time": "2021-06-20T15:44:36.362947Z",
     "start_time": "2021-06-20T15:43:42.461215Z"
    },
    "scrolled": false
   },
   "outputs": [
    {
     "data": {
      "text/html": [
       "<video src=\"out/LAWS_OF_DIFFUSION/diffusion1.mp4\" controls  width=\"640\"  height=\"640\">\n",
       "      Your browser does not support the <code>video</code> element.\n",
       "    </video>"
      ],
      "text/plain": [
       "<IPython.core.display.Video object>"
      ]
     },
     "execution_count": 2,
     "metadata": {},
     "output_type": "execute_result"
    }
   ],
   "source": [
    "fig, ax = plt.subplots(1, 1, figsize=(8, 8), dpi=200)\n",
    "\n",
    "domain, dx = np.linspace(0, 1, 100, retstep=True)\n",
    "t, dt = np.linspace(0, 1, 100000, retstep=True)\n",
    "n = np.empty((100000, 100))\n",
    "n[0] = np.linspace(0, 1, 100)\n",
    "n[0][n[0]>0.5] = 1\n",
    "n[0][n[0]<=0.5] = 0.1\n",
    "\n",
    "D = 0.5\n",
    "\n",
    "r = D * dt / dx**2\n",
    "\n",
    "for _t in range(0, 100000-1):\n",
    "    for i in range(1, 99):\n",
    "        n[_t+1, i] = n[_t, i] + (D * dt / dx**2) * (n[_t,i+1] - 2*n[_t,i] + n[_t,i-1])\n",
    "\n",
    "    n[_t+1, 0] = n[_t+1, 1]\n",
    "    n[_t+1, 99] = n[_t+1, -2]\n",
    "\n",
    "N, = ax.plot(domain, n[0], color='red')    \n",
    "ax.set_title(np.sum(n[0]))\n",
    "def animate(frame):\n",
    "    N.set_data(domain, n[frame*100])\n",
    "    ax.set_title(f\"t={round(t[frame*100],3)}\")\n",
    "    return N,\n",
    "\n",
    "anim = animation.FuncAnimation(fig, animate, frames=1000, interval=10)\n",
    "plt.close()\n",
    "\n",
    "anim.save(OUTPUT_PATH + \"diffusion1.mp4\", dpi=100)\n",
    "IPython.display.Video(OUTPUT_PATH + \"diffusion1.mp4\", width=80*8, height=80*8)"
   ]
  },
  {
   "cell_type": "code",
   "execution_count": 3,
   "metadata": {
    "ExecuteTime": {
     "end_time": "2021-06-20T15:45:31.170380Z",
     "start_time": "2021-06-20T15:44:36.363946Z"
    }
   },
   "outputs": [
    {
     "data": {
      "text/html": [
       "<video src=\"out/LAWS_OF_DIFFUSION/diffusion2.mp4\" controls  width=\"640\"  height=\"640\">\n",
       "      Your browser does not support the <code>video</code> element.\n",
       "    </video>"
      ],
      "text/plain": [
       "<IPython.core.display.Video object>"
      ]
     },
     "execution_count": 3,
     "metadata": {},
     "output_type": "execute_result"
    }
   ],
   "source": [
    "fig, ax = plt.subplots(1, 1, figsize=(8, 8), dpi=200)\n",
    "\n",
    "domain, dx = np.linspace(0, 1, 100, retstep=True)\n",
    "t, dt = np.linspace(0, 1, 100000, retstep=True)\n",
    "n = np.empty((100000, 100))\n",
    "n[0] = np.linspace(0, 1, 100)\n",
    "n[0][n[0]>0.8] = 1\n",
    "n[0][n[0]<=0.8] = 0.1\n",
    "\n",
    "D = 0.5\n",
    "\n",
    "r = D * dt / dx**2\n",
    "\n",
    "for _t in range(0, 100000-1):\n",
    "    for i in range(1, 99):\n",
    "        n[_t+1, i] = n[_t, i] + (D * dt / dx**2) * (n[_t,i+1] - 2*n[_t,i] + n[_t,i-1])\n",
    "\n",
    "    n[_t+1, 0] = n[_t+1, 1]\n",
    "    n[_t+1, 99] = n[_t+1, -2]\n",
    "\n",
    "N, = ax.plot(domain, n[0], color='red')    \n",
    "ax.set_title(np.sum(n[0]))\n",
    "def animate(frame):\n",
    "    N.set_data(domain, n[frame*100])\n",
    "    ax.set_title(f\"t={round(t[frame*100],3)}\")\n",
    "    return N,\n",
    "\n",
    "anim = animation.FuncAnimation(fig, animate, frames=1000, interval=10)\n",
    "plt.close()\n",
    "\n",
    "anim.save(OUTPUT_PATH + \"diffusion2.mp4\", dpi=100)\n",
    "IPython.display.Video(OUTPUT_PATH + \"diffusion2.mp4\", width=80*8, height=80*8)"
   ]
  },
  {
   "cell_type": "code",
   "execution_count": 4,
   "metadata": {
    "ExecuteTime": {
     "end_time": "2021-06-20T15:46:23.679743Z",
     "start_time": "2021-06-20T15:45:31.171381Z"
    }
   },
   "outputs": [
    {
     "data": {
      "text/html": [
       "<video src=\"out/LAWS_OF_DIFFUSION/diffusion3.mp4\" controls  width=\"640\"  height=\"640\">\n",
       "      Your browser does not support the <code>video</code> element.\n",
       "    </video>"
      ],
      "text/plain": [
       "<IPython.core.display.Video object>"
      ]
     },
     "execution_count": 4,
     "metadata": {},
     "output_type": "execute_result"
    }
   ],
   "source": [
    "fig, ax = plt.subplots(1, 1, figsize=(8, 8), dpi=200)\n",
    "\n",
    "domain, dx = np.linspace(0, 1, 100, retstep=True)\n",
    "t, dt = np.linspace(0, 1, 100000, retstep=True)\n",
    "n = np.empty((100000, 100))\n",
    "n[0][0:20] = 1\n",
    "n[0][80:100] = 1\n",
    "\n",
    "D = 0.5\n",
    "\n",
    "r = D * dt / dx**2\n",
    "\n",
    "for _t in range(0, 100000-1):\n",
    "    for i in range(1, 99):\n",
    "        n[_t+1, i] = n[_t, i] + (D * dt / dx**2) * (n[_t,i+1] - 2*n[_t,i] + n[_t,i-1])\n",
    "\n",
    "    n[_t+1, 0] = n[_t+1, 1]\n",
    "    n[_t+1, 99] = n[_t+1, -2]\n",
    "\n",
    "N, = ax.plot(domain, n[0], color='red')    \n",
    "ax.set_title(np.sum(n[0]))\n",
    "def animate(frame):\n",
    "    N.set_data(domain, n[frame*100])\n",
    "    ax.set_title(f\"t={round(t[frame*100],3)}\")\n",
    "    return N,\n",
    "\n",
    "anim = animation.FuncAnimation(fig, animate, frames=1000, interval=10)\n",
    "plt.close()\n",
    "\n",
    "anim.save(OUTPUT_PATH + \"diffusion3.mp4\", dpi=100)\n",
    "IPython.display.Video(OUTPUT_PATH + \"diffusion3.mp4\", width=80*8, height=80*8)"
   ]
  },
  {
   "cell_type": "code",
   "execution_count": 5,
   "metadata": {
    "ExecuteTime": {
     "end_time": "2021-06-20T15:47:16.813186Z",
     "start_time": "2021-06-20T15:46:23.680742Z"
    }
   },
   "outputs": [
    {
     "data": {
      "text/html": [
       "<video src=\"out/LAWS_OF_DIFFUSION/diffusion4.mp4\" controls  width=\"640\"  height=\"640\">\n",
       "      Your browser does not support the <code>video</code> element.\n",
       "    </video>"
      ],
      "text/plain": [
       "<IPython.core.display.Video object>"
      ]
     },
     "execution_count": 5,
     "metadata": {},
     "output_type": "execute_result"
    }
   ],
   "source": [
    "fig, ax = plt.subplots(1, 1, figsize=(8, 8), dpi=200)\n",
    "\n",
    "domain, dx = np.linspace(0, 1, 100, retstep=True)\n",
    "t, dt = np.linspace(0, 1, 100000, retstep=True)\n",
    "n = np.empty((100000, 100))\n",
    "n[0, 0] = 1\n",
    "n[0, 99] = 1\n",
    "\n",
    "D = 0.5\n",
    "\n",
    "r = D * dt / dx**2\n",
    "\n",
    "for _t in range(0, 100000-1):\n",
    "    for i in range(1, 99):\n",
    "        n[_t+1, i] = n[_t, i] + (D * dt / dx**2) * (n[_t,i+1] - 2*n[_t,i] + n[_t,i-1])\n",
    "\n",
    "    n[_t+1, 0] = 1\n",
    "    n[_t+1, 99] = 1\n",
    "\n",
    "N, = ax.plot(domain, n[0], color='red')    \n",
    "ax.set_title(np.sum(n[0]))\n",
    "def animate(frame):\n",
    "    N.set_data(domain, n[frame*100])\n",
    "    ax.set_title(f\"t={round(t[frame*100],3)}\")\n",
    "    return N,\n",
    "\n",
    "anim = animation.FuncAnimation(fig, animate, frames=1000, interval=10)\n",
    "plt.close()\n",
    "\n",
    "anim.save(OUTPUT_PATH + \"diffusion4.mp4\", dpi=100)\n",
    "IPython.display.Video(OUTPUT_PATH + \"diffusion4.mp4\", width=80*8, height=80*8)"
   ]
  },
  {
   "cell_type": "code",
   "execution_count": null,
   "metadata": {},
   "outputs": [],
   "source": []
  }
 ],
 "metadata": {
  "hide_input": false,
  "kernelspec": {
   "display_name": "Python 3",
   "language": "python",
   "name": "python3"
  },
  "language_info": {
   "codemirror_mode": {
    "name": "ipython",
    "version": 3
   },
   "file_extension": ".py",
   "mimetype": "text/x-python",
   "name": "python",
   "nbconvert_exporter": "python",
   "pygments_lexer": "ipython3",
   "version": "3.7.6"
  },
  "toc": {
   "base_numbering": 1,
   "nav_menu": {},
   "number_sections": true,
   "sideBar": true,
   "skip_h1_title": false,
   "title_cell": "Table of Contents",
   "title_sidebar": "Contents",
   "toc_cell": false,
   "toc_position": {},
   "toc_section_display": true,
   "toc_window_display": false
  },
  "varInspector": {
   "cols": {
    "lenName": 16,
    "lenType": 16,
    "lenVar": 40
   },
   "kernels_config": {
    "python": {
     "delete_cmd_postfix": "",
     "delete_cmd_prefix": "del ",
     "library": "var_list.py",
     "varRefreshCmd": "print(var_dic_list())"
    },
    "r": {
     "delete_cmd_postfix": ") ",
     "delete_cmd_prefix": "rm(",
     "library": "var_list.r",
     "varRefreshCmd": "cat(var_dic_list()) "
    }
   },
   "types_to_exclude": [
    "module",
    "function",
    "builtin_function_or_method",
    "instance",
    "_Feature"
   ],
   "window_display": false
  }
 },
 "nbformat": 4,
 "nbformat_minor": 1
}