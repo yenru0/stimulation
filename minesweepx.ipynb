{
 "cells": [
  {
   "cell_type": "code",
   "execution_count": 28,
   "metadata": {
    "collapsed": true,
    "pycharm": {
     "name": "#%%\n"
    }
   },
   "outputs": [],
   "source": [
    "from collections import OrderedDict\n",
    "import pickle\n",
    "\n",
    "import matplotlib.pyplot as plt\n",
    "import numpy as np\n",
    "from PIL import Image\n",
    "\n",
    "from function.layer import Relu, SoftmaxWithLoss, Sigmoid, Affine\n",
    "from function.etc import numerical_gradient"
   ]
  },
  {
   "cell_type": "markdown",
   "metadata": {},
   "source": [
    "# 지뢰찾기 패턴 신경망\n",
    "\n",
    "9개의 타일을 가진 샘플을 입력층에 전달한다.\n",
    "샘플의 예시는 다음과 같다.\n",
    "```\n",
    "000\n",
    "121\n",
    "xxx\n",
    "[0, 0, 0, 1, 2, 1, -1, -1, -1]\n",
    "```\n",
    "`x`의 경우는 아직 확인되지 않은 구간으로 입력층에 전달할 때는 -1의 값으로 전달.\n",
    "\n",
    "이때의 경우 이를 만족하는 '올바른 지뢰찾기' 결과는 다음과 같다.\n",
    "```\n",
    "000\n",
    "121\n",
    "*2*\n",
    "[0, 0, 0, 0, 0, 0, 1, 0, 1]\n",
    "```\n",
    "`*`는 지뢰이다.\n",
    "\n",
    "이런 방식으로 여러 학습데이터를 만들어 학습시키는 것으로 해본다."
   ]
  },
  {
   "cell_type": "code",
   "execution_count": 67,
   "metadata": {
    "pycharm": {
     "name": "#%%\n"
    }
   },
   "outputs": [
    {
     "name": "stdout",
     "output_type": "stream",
     "text": [
      "0001*\n",
      "00011\n",
      "00000\n",
      "01110\n",
      "01*10\n",
      "=====\n",
      "0001x\n",
      "00011\n",
      "00000\n",
      "01110\n",
      "01x10\n"
     ]
    }
   ],
   "source": [
    "# 학습 데이터, 테스트 데이터 만들기\n",
    "def neighbors(pos):\n",
    "    l_min = np.max((pos[0] - 1, 0))\n",
    "    l_max = np.min((pos[0] + 1, 4))\n",
    "    r_min = np.max((pos[1] - 1, 0))\n",
    "    r_max = np.min((pos[1] + 1, 4))\n",
    "    ret = []\n",
    "    for j in range(r_min, r_max + 1):\n",
    "        for i in range(l_min, l_max + 1):\n",
    "            if (i, j) != pos:\n",
    "                ret.append((i, j))\n",
    "    return np.array(ret)\n",
    "\n",
    "def open_route(board_org, board_b, pos):\n",
    "    if board_b[pos[0], pos[1]] != -1:\n",
    "        return\n",
    "    t = board_org[pos[0], pos[1]]\n",
    "    board_b[pos[0], pos[1]] = t\n",
    "    if t == 0:\n",
    "        x = neighbors(pos)\n",
    "        for i in x:\n",
    "            open_route(board_org, board_b, tuple(i))\n",
    "\n",
    "def closing(board, pos):\n",
    "    l_min = np.max((pos[0] - 1, 0))\n",
    "    l_max = np.min((pos[0] + 1, 4))\n",
    "    r_min = np.max((pos[1] - 1, 0))\n",
    "    r_max = np.min((pos[1] + 1, 4))\n",
    "    return np.count_nonzero(board[l_min: l_max+1, r_min: r_max+1] == -1)\n",
    "\n",
    "\n",
    "board_origin = np.zeros((5, 5), dtype=int)\n",
    "board_hot = np.zeros_like(board_origin)\n",
    "board_blind = np.full_like(board_origin, -1)\n",
    "\n",
    "xx, yy = np.meshgrid(range(5), range(5))\n",
    "A = np.array((xx.ravel(), yy.ravel())).T\n",
    "\n",
    "t = A[np.random.choice(A.shape[0], 3, replace=False)]\n",
    "\n",
    "board_origin[tuple(t[:2])] = -1\n",
    "board_hot[tuple(t[:2])] = 1\n",
    "\n",
    "\n",
    "for i in range(5):\n",
    "    for j in range(5):\n",
    "        if board_origin[i, j] == -1:\n",
    "            continue\n",
    "        board_origin[i, j] = closing(board_origin, (i, j))\n",
    "\n",
    "open_pos = t[-1]# t[-1]\n",
    "\n",
    "open_route(board_origin, board_blind, tuple(open_pos))\n",
    "\n",
    "for row in board_origin:\n",
    "    for c in row:\n",
    "        if c == -1:\n",
    "            print(\"*\", end='')\n",
    "        else:\n",
    "            print(str(c), end='')\n",
    "    print()\n",
    "print(\"=====\")\n",
    "for row in board_blind:\n",
    "    for c in row:\n",
    "        if c == -1:\n",
    "            print(\"x\", end='')\n",
    "        else:\n",
    "            print(str(c), end= '')\n",
    "    print()\n",
    "\n",
    "B_origins = np.zeros((100, 5, 5), dtype=int)\n",
    "B_hots = np.zeros((100, 5, 5), dtype=int)\n",
    "B_blinds = np.zeros((100, 5, 5), dtype=int)\n",
    "for k in range(100):\n",
    "    board_origin = np.zeros((5, 5), dtype=int)\n",
    "    board_hot = np.zeros_like(board_origin)\n",
    "    board_blind = np.full_like(board_origin, -1)\n",
    "\n",
    "    xx, yy = np.meshgrid(range(5), range(5))\n",
    "    A = np.array((xx.ravel(), yy.ravel())).T\n",
    "\n",
    "    t = A[np.random.choice(A.shape[0], 3, replace=False)]\n",
    "\n",
    "    board_origin[tuple(t[:2])] = -1\n",
    "    board_hot[tuple(t[:2])] = 1\n",
    "\n",
    "\n",
    "    for i in range(5):\n",
    "        for j in range(5):\n",
    "            if board_origin[i, j] == -1:\n",
    "                continue\n",
    "            board_origin[i, j] = closing(board_origin, (i, j))\n",
    "\n",
    "    open_pos = t[-1]# t[-1]\n",
    "\n",
    "    open_route(board_origin, board_blind, tuple(open_pos))\n",
    "\n",
    "    B_origins[k] = board_origin.copy()\n",
    "    B_hots[k] = board_hot.copy()\n",
    "    B_blinds[k] = board_blind.copy()\n",
    "\n",
    "with open(\"dataset/minesweep_dataset/mine_board_data.pkl\", 'wb') as f:\n",
    "    data = {\n",
    "        \"B_origins\": B_origins,\n",
    "        \"B_hots\": B_hots,\n",
    "        \"B_blinds\": B_blinds\n",
    "    }\n",
    "    pickle.dump(data, f)"
   ]
  },
  {
   "cell_type": "code",
   "execution_count": 68,
   "metadata": {
    "pycharm": {
     "name": "#%%\n"
    }
   },
   "outputs": [
    {
     "name": "stdout",
     "output_type": "stream",
     "text": [
      "[[ 0  0  1  1  1]\n",
      " [ 1  1  2 -1  1]\n",
      " [ 1 -1  2  1  1]\n",
      " [ 1  1  1  0  0]\n",
      " [ 0  0  0  0  0]]\n"
     ]
    }
   ],
   "source": [
    "with open(\"dataset/minesweep_dataset/mine_board_data.pkl\", 'rb') as f:\n",
    "    data = pickle.load(f)\n",
    "print(data[\"B_origins\"][0])"
   ]
  },
  {
   "cell_type": "code",
   "execution_count": null,
   "metadata": {
    "pycharm": {
     "name": "#%%\n"
    }
   },
   "outputs": [],
   "source": [
    "class MineSweepLayer:\n",
    "    def __init__(self, io_size=25, hidden_size=50, weight_init_std=0.01):\n",
    "        self.params = {\n",
    "            \"W1\": weight_init_std * np.random.randn(io_size, hidden_size),\n",
    "            \"b1\": weight_init_std * np.random.randn(hidden_size),\n",
    "            \"W2\": weight_init_std * np.random.randn(hidden_size, io_size),\n",
    "            \"b2\": weight_init_std * np.random.randn(io_size)\n",
    "        }\n",
    "\n",
    "        self.layers = OrderedDict()\n",
    "        self.layers[\"Affine1\"] = Affine(self.params[\"W1\"], self.params[\"b1\"])\n",
    "        self.layers[\"Relu1\"] = Relu()\n",
    "        self.layers[\"Affine2\"] = Affine(self.params[\"W2\"], self.params[\"b2\"])\n",
    "        self.layers[\"Relu2\"] = Relu()\n",
    "\n",
    "        self.last_layer = SoftmaxWithLoss()\n",
    "\n",
    "    def predict(self, x):\n",
    "        for layer in self.layers.values():\n",
    "            x = layer.forward(x)\n",
    "\n",
    "        return x\n",
    "\n",
    "    def loss(self, x, t):\n",
    "        y = self.predict(x)\n",
    "        return self.last_layer.forward(y, t)\n",
    "\n",
    "    def accuracy(self, x, t):\n",
    "        y = self.predict(x)\n",
    "        y = np.argmax(y, axis=1)\n",
    "        if t.ndim != 1:\n",
    "            t = np.argmax(t, axis=1)\n",
    "\n",
    "        accuracy = np.sum(y == t) / float(x.shape[0])\n",
    "        return accuracy\n",
    "\n",
    "    def numerical_gradient(self, x, t):\n",
    "        loss_W = lambda W: self.loss(x, t)\n",
    "\n",
    "        grads = {}\n",
    "        grads['W1'] = numerical_gradient(loss_W, self.params['W1'])\n",
    "        grads['b1'] = numerical_gradient(loss_W, self.params['b1'])\n",
    "        grads['W2'] = numerical_gradient(loss_W, self.params['W2'])\n",
    "        grads['b2'] = numerical_gradient(loss_W, self.params['b2'])\n",
    "\n",
    "        return grads\n",
    "\n",
    "    def gradient(self, x, t):\n",
    "        # 순전파\n",
    "        self.loss(x, t)\n",
    "\n",
    "        # 역전파\n",
    "        dout = 1\n",
    "        dout = self.last_layer.backward(dout)\n",
    "\n",
    "        layers = list(self.layers.values())\n",
    "        layers.reverse()\n",
    "        for layer in layers:\n",
    "            dout = layer.backward(dout)\n",
    "\n",
    "        # 결과 저장\n",
    "        grads = {}\n",
    "        grads['W1'] = self.layers['Affine1'].dW\n",
    "        grads['b1'] = self.layers['Affine1'].db\n",
    "        grads['W2'] = self.layers['Affine2'].dW\n",
    "        grads['b2'] = self.layers['Affine2'].db\n",
    "\n",
    "        return grads\n"
   ]
  },
  {
   "cell_type": "code",
   "execution_count": null,
   "metadata": {
    "pycharm": {
     "name": "#%%\n"
    }
   },
   "outputs": [],
   "source": []
  }
 ],
 "metadata": {
  "hide_input": false,
  "kernelspec": {
   "display_name": "Python 3",
   "language": "python",
   "name": "python3"
  },
  "language_info": {
   "codemirror_mode": {
    "name": "ipython",
    "version": 3
   },
   "file_extension": ".py",
   "mimetype": "text/x-python",
   "name": "python",
   "nbconvert_exporter": "python",
   "pygments_lexer": "ipython3",
   "version": "3.7.6"
  },
  "toc": {
   "base_numbering": 1,
   "nav_menu": {},
   "number_sections": true,
   "sideBar": true,
   "skip_h1_title": false,
   "title_cell": "Table of Contents",
   "title_sidebar": "Contents",
   "toc_cell": false,
   "toc_position": {},
   "toc_section_display": true,
   "toc_window_display": false
  },
  "varInspector": {
   "cols": {
    "lenName": 16,
    "lenType": 16,
    "lenVar": 40
   },
   "kernels_config": {
    "python": {
     "delete_cmd_postfix": "",
     "delete_cmd_prefix": "del ",
     "library": "var_list.py",
     "varRefreshCmd": "print(var_dic_list())"
    },
    "r": {
     "delete_cmd_postfix": ") ",
     "delete_cmd_prefix": "rm(",
     "library": "var_list.r",
     "varRefreshCmd": "cat(var_dic_list()) "
    }
   },
   "types_to_exclude": [
    "module",
    "function",
    "builtin_function_or_method",
    "instance",
    "_Feature"
   ],
   "window_display": false
  }
 },
 "nbformat": 4,
 "nbformat_minor": 1
}
