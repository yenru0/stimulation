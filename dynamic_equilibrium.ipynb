{
 "cells": [
  {
   "cell_type": "code",
   "execution_count": 1,
   "metadata": {
    "collapsed": true
   },
   "outputs": [],
   "source": [
    "import numpy as np\n",
    "import matplotlib.pyplot as plt\n",
    "import matplotlib.animation as animation\n",
    "import matplotlib.ticker as ticker\n",
    "import IPython.display\n",
    "\n",
    "plt.rcParams['font.family'] = [\"D2Coding\"]"
   ]
  },
  {
   "cell_type": "markdown",
   "metadata": {
    "pycharm": {
     "name": "#%%\n"
    }
   },
   "source": [
    "# 동적평형 설계\n",
    "\n"
   ]
  },
  {
   "cell_type": "markdown",
   "metadata": {},
   "source": [
    "## 화학평형\n",
    "\n",
    "어떤 화학 물질 $X$, $Y$가 있다고 할 때 두 화학물질은 양에 비례해 다음과 같이 서로 변환된다고 하자.\n",
    "\n",
    "$$aX \\longleftrightarrow bY$$\n",
    "\n",
    "이때 시간에 따른 두 화학 물질의 양, $x(t)$, $y(t)$는 다음과 같은 양상을 보일 것이다.\n",
    "\n",
    "$$\\begin{cases}\n",
    "x' &= k(\\frac{a}{b}y-x)\\\\\n",
    "y' &= k(\\frac{b}{a}x-y)\n",
    "\\end{cases}$$\n",
    "\n",
    "### 사산화이질소 $\\longleftrightarrow$ 2이산화질소\n",
    "\n",
    "사산화이질소의 양을 $x$\n",
    "이산화질소의 양을 $y$라고 할 때,\n",
    "\n",
    "$$\\begin{cases}\n",
    "x' &= k(\\frac{1}{2}y-x)\\\\\n",
    "y' &= k(2x-y)\n",
    "\\end{cases}$$\n"
   ]
  },
  {
   "cell_type": "code",
   "execution_count": 71,
   "metadata": {
    "ExecuteTime": {
     "end_time": "2021-07-19T01:15:34.684017Z",
     "start_time": "2021-07-19T01:15:34.009291Z"
    }
   },
   "outputs": [],
   "source": [
    "t, dt = np.linspace(0, 25, 250000, retstep=True)\n",
    "\n",
    "x = np.empty_like(t)\n",
    "y = np.empty_like(t)\n",
    "x[0], y[0] = 1, 0\n",
    "k = 0.1\n",
    "\n",
    "n = np.empty_like(t)\n",
    "n[0] = 2*x[0]+y[0]\n",
    "\n",
    "for i in range(0, len(t)-1):\n",
    "    x[i+1] = x[i] + k*(1/2*y[i]-x[i])*dt\n",
    "    y[i+1] = y[i] + k*(2*x[i]-y[i])*dt\n",
    "    n[i+1] = 2*x[i+1] + y[i+1]"
   ]
  },
  {
   "cell_type": "code",
   "execution_count": 72,
   "metadata": {
    "ExecuteTime": {
     "end_time": "2021-07-19T01:15:35.774036Z",
     "start_time": "2021-07-19T01:15:35.059067Z"
    }
   },
   "outputs": [
    {
     "data": {
      "image/png": "[encoded data removed]",
      "text/plain": [
       "<Figure size 432x288 with 1 Axes>"
      ]
     },
     "metadata": {
      "needs_background": "light"
     },
     "output_type": "display_data"
    }
   ],
   "source": [
    "fig, ax = plt.subplots()\n",
    "ax.plot(t, x, label=\"사산화이질소\")\n",
    "ax.plot(t, y, label=\"이산화질소\")\n",
    "ax.legend()\n",
    "plt.show()"
   ]
  },
  {
   "cell_type": "code",
   "execution_count": 56,
   "metadata": {
    "ExecuteTime": {
     "end_time": "2021-07-19T01:10:27.689984Z",
     "start_time": "2021-07-19T01:10:27.026315Z"
    }
   },
   "outputs": [],
   "source": [
    "t, dt = np.linspace(0, 25, 250000, retstep=True)\n",
    "\n",
    "x = np.empty_like(t)\n",
    "y = np.empty_like(t)\n",
    "x[0], y[0] = 0, 2\n",
    "k = 0.1\n",
    "\n",
    "n = np.empty_like(t)\n",
    "n[0] = 2*x[0]+y[0]\n",
    "\n",
    "for i in range(0, len(t)-1):\n",
    "    x[i+1] = x[i] + k*(1/2*y[i]-x[i])*dt\n",
    "    y[i+1] = y[i] + k*(2*x[i]-y[i])*dt\n",
    "    n[i+1] = 2*x[i+1] + y[i+1]"
   ]
  },
  {
   "cell_type": "code",
   "execution_count": 59,
   "metadata": {
    "ExecuteTime": {
     "end_time": "2021-07-19T01:10:47.114924Z",
     "start_time": "2021-07-19T01:10:46.784435Z"
    }
   },
   "outputs": [
    {
     "data": {
      "image/png": "[encoded data removed]",
      "text/plain": [
       "<Figure size 432x288 with 1 Axes>"
      ]
     },
     "metadata": {
      "needs_background": "light"
     },
     "output_type": "display_data"
    }
   ],
   "source": [
    "fig, ax = plt.subplots()\n",
    "ax.plot(t, x, label=\"사산화이질소\")\n",
    "ax.plot(t, y, label=\"이산화질소\")\n",
    "\n",
    "ax.legend()\n",
    "plt.show()"
   ]
  },
  {
   "cell_type": "markdown",
   "metadata": {},
   "source": [
    "#"
   ]
  }
 ],
 "metadata": {
  "hide_input": false,
  "kernelspec": {
   "display_name": "Python 3",
   "language": "python",
   "name": "python3"
  },
  "language_info": {
   "codemirror_mode": {
    "name": "ipython",
    "version": 3
   },
   "file_extension": ".py",
   "mimetype": "text/x-python",
   "name": "python",
   "nbconvert_exporter": "python",
   "pygments_lexer": "ipython3",
   "version": "3.7.6"
  },
  "toc": {
   "base_numbering": 1,
   "nav_menu": {},
   "number_sections": true,
   "sideBar": true,
   "skip_h1_title": false,
   "title_cell": "Table of Contents",
   "title_sidebar": "Contents",
   "toc_cell": false,
   "toc_position": {},
   "toc_section_display": true,
   "toc_window_display": false
  },
  "varInspector": {
   "cols": {
    "lenName": 16,
    "lenType": 16,
    "lenVar": 40
   },
   "kernels_config": {
    "python": {
     "delete_cmd_postfix": "",
     "delete_cmd_prefix": "del ",
     "library": "var_list.py",
     "varRefreshCmd": "print(var_dic_list())"
    },
    "r": {
     "delete_cmd_postfix": ") ",
     "delete_cmd_prefix": "rm(",
     "library": "var_list.r",
     "varRefreshCmd": "cat(var_dic_list()) "
    }
   },
   "types_to_exclude": [
    "module",
    "function",
    "builtin_function_or_method",
    "instance",
    "_Feature"
   ],
   "window_display": false
  }
 },
 "nbformat": 4,
 "nbformat_minor": 1
}