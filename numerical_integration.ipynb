{
 "cells": [
  {
   "cell_type": "code",
   "execution_count": 1,
   "metadata": {
    "ExecuteTime": {
     "end_time": "2021-08-03T15:41:09.831036Z",
     "start_time": "2021-08-03T15:41:09.532167Z"
    }
   },
   "outputs": [],
   "source": [
    "import numpy as np\n",
    "import matplotlib.pyplot as plt\n",
    "import matplotlib.animation as animation\n",
    "import matplotlib.ticker\n",
    "import IPython.display"
   ]
  },
  {
   "cell_type": "markdown",
   "metadata": {},
   "source": [
    "# 사다리꼴 공식\n",
    "사다리꼴들을 사용해 곡선 아래의 면적을 추정하는 방식이다.\n",
    "\n",
    "$\\int^b_a{f(x)dx}$를 추정하기 위해 구간 $[a,b]$를 분할 $P$에 따라 부분구간들로 나눈다.\n",
    "\n",
    "$$P=\\{a=x_0<x_1<x_2<\\dots<x_n=b\\}$$\n",
    "\n",
    "이를 통해 적분의 추정값을 얻을 수 있다. 이 추정값을 $T(f;P)$로 표시한다.\n",
    "\n",
    "그러면 이때 부분구간 $[x_i, x_{i+1}]$을 사다리꼴의 높이로 하고 밑변이 수직인 두변 f(x_i)와 f(x_{i+1})인 사다리꼴을 나타낼 수 있으므로 부분구간 $[x_i, x_{i+1}]$에서 **기본 사다리꼴 공식**을 얻을 수 있다.\n",
    "\n",
    "$$\\int^{x_{i+1}}_{x_i}f(x)dx \\approx \\frac{1}{2}(x_{i+1}-x_i)(f(x_i)+f(x_{i+1}))$$\n",
    "\n",
    "이를 통해 다음과 같이 모든 사다리꼴의 총 면적을 구할 수 있는데 이를 **복합 사다리꼴 공식**이라고 부른다.\n",
    "\n",
    "$$\\int^{b}_{a}f(x)dx \\approx \\frac{1}{2}\\sum^{n-1}_{i=0}(x_{i+1}-x_i)(f(x_i)+f(x_{i+1}))$$\n",
    "\n",
    "## 등간격 복합 사다리꼴 공식\n",
    "등간격은 분할점 $x_i$가 일정한 간격으로 떨어져 있다는 뜻이다. 이는 $h=\\frac{b-a}{n},\\,0\\leq i\\leq n$일 때, $x_i=a+ih$로 나타낼 수 있게 된다. 이 경우에는 $T(f;P)$를 더 간단하게 나타낼 수 있다.\n",
    "$$T(f;P)=\\frac{1}{2}\\sum^{n-1}_{i=0}{(f(x_i)+f(x_{i+1}))}$$\n",
    "\n",
    "계산량을 줄이기 위해 선호되는 바람직한 복합 사다리꼴 공식은 다음과 같다.\n",
    "\n",
    "$$\\int^{b}_{a}f(x)dx \\approx T(f;P)=\\frac{1}{2}(f(x_0)+f(x_n)) + h\\sum^{n-1}_{i=1}f(x_i)$$"
   ]
  },
  {
   "cell_type": "code",
   "execution_count": 2,
   "metadata": {
    "ExecuteTime": {
     "end_time": "2021-08-03T15:41:09.837040Z",
     "start_time": "2021-08-03T15:41:09.832035Z"
    }
   },
   "outputs": [],
   "source": [
    "# some codes fort trapezoid\n",
    "def tripezoid_uniform(f, a, b, n):\n",
    "    h = (b-a)/n\n",
    "    d = np.linspace(a, b, n)\n",
    "    return (f(a)+f(b))/2 + h*np.sum([f(i) for i in d])"
   ]
  },
  {
   "cell_type": "code",
   "execution_count": 3,
   "metadata": {
    "ExecuteTime": {
     "end_time": "2021-08-03T15:41:09.983102Z",
     "start_time": "2021-08-03T15:41:09.838518Z"
    }
   },
   "outputs": [
    {
     "data": {
      "text/latex": [
       "$\\displaystyle \\int^{\\pi}_{0}{\\sin (x) dx} = 2 \\approx1.803203215917686$"
      ],
      "text/plain": [
       "<IPython.core.display.Math object>"
      ]
     },
     "metadata": {},
     "output_type": "display_data"
    },
    {
     "data": {
      "image/png": "[encoded data removed]",
      "text/plain": [
       "<Figure size 432x288 with 1 Axes>"
      ]
     },
     "metadata": {
      "needs_background": "light"
     },
     "output_type": "display_data"
    }
   ],
   "source": [
    "fig, ax = plt.subplots()\n",
    "\n",
    "_a = 0\n",
    "_b = np.pi\n",
    "_n = 11\n",
    "_dx = (_b-_a)/_n\n",
    "\n",
    "_func = np.sin \n",
    "_domain = np.linspace(_a, _b, _n)\n",
    "_appdomain = np.linspace(_a, _b, 10000)\n",
    "\n",
    "ax.set_xlim((_a, _b))\n",
    "\n",
    "IPython.display.display(IPython.display.Math(r\"\\int^{\\pi}_{0}{\\sin (x) dx} = 2 \\approx\"+str(tripezoid_uniform(_func, _a, _b, _n)) ))\n",
    "\n",
    "ax.plot(_appdomain, [_func(i) for i in _appdomain], color='red')\n",
    "\n",
    "for i in range(_n-1):\n",
    "    ax.fill([_domain[i], _domain[i+1], _domain[i+1], _domain[i]], [0, 0, _func(_domain[i+1]), _func(_domain[i])], \"r\", alpha=0.3)\n",
    "    ax.vlines(_domain[i+1], _func(_domain[i+1]), 0)\n",
    "plt.show()"
   ]
  },
  {
   "cell_type": "markdown",
   "metadata": {},
   "source": [
    "# 재귀 사다리꼴 공식"
   ]
  },
  {
   "cell_type": "markdown",
   "metadata": {},
   "source": [
    "구간 $[a,b]$를 균등 분할한 $2^n$개의 부분구간으로 나눴을 때 복합 사다리꼴 공식은 다음과 같아진다.\n",
    "\n",
    "$$R(n, 0) = h\\sum^{2^n-1}_{i=1}{f(a+ih)}+\\frac{h}{2}(f(a)+f(b))$$\n",
    "\n",
    "롬베르크 알고리즘에서 $f$에 대한 불필요한 계산 없이 $R(n-1,0)$으로부터 $R(n,0)$을 계산할 수 있는 수단이 필요하다. 그런 재귀 사다리꼴 공식은 다음과 같다.\n",
    "\n",
    "$$R(n,0)=\\frac{1}{2}R(n-1, 0)+\\sum^{2^n-1}_{k=1}f(a+(2k-1)h)\\quad (n\\geq 1)$$\n",
    "\n",
    "이때 $h=(b-a)/2^n$, $R(0, 0)=\\frac{1}{2}(b-a)(f(a)+f(b))$\n"
   ]
  },
  {
   "cell_type": "code",
   "execution_count": null,
   "metadata": {},
   "outputs": [],
   "source": []
  },
  {
   "cell_type": "markdown",
   "metadata": {},
   "source": [
    "# 롬베르크 알고리즘\n",
    "\n",
    "롬베르크 알고리즘은 수의 삼각배열을 생성한다. 이 배열은 모두 $\\int^{b}_{a}f(x)dx$의 근사값이다.\n",
    "\n",
    "$$\\begin{matrix}\n",
    "R(0, 0) \\\\\n",
    "R(1, 0) & R(1, 1) \\\\\n",
    "R(2, 0) & R(2, 1) & R(2, 2) \\\\\n",
    "R(3, 0) & R(3, 1) & R(3, 2) & R(3, 3) \\\\\n",
    "\\vdots & \\vdots & \\vdots & \\vdots & \\ddots \\\\\n",
    "R(n, 0) & R(n, 1) & R(n, 2) & R(n, 3) & \\cdots & R(n, n)\n",
    "\\end{matrix}$$\n",
    "\n",
    "이 배열의 첫번째인 $R(0,0)$은 하나의 사다리꼴로 얻어진 값이다.\n",
    "\n",
    "$$R(0, 0)=\\frac{1}{2}(b-a)(f(a)+f(b))$$\n",
    "\n",
    "$$R(n,0)=\\frac{1}{2}R(n-1, 0)+\\sum^{2^n-1}_{k=1}f(a+(2k-1)h)\\quad (h=(b-a)/2^n,\\,n\\geq 1)$$\n",
    "\n",
    "롬베르크 배열의 둘째 열부터는 다음 보외법 공식에 의해 생성된다.\n",
    "\n",
    "$$R(n,m)=R(n,m-1)+\\frac{1}{4^m-1}(R(n,m-1)-R(n-1,m-1))$$"
   ]
  },
  {
   "cell_type": "code",
   "execution_count": null,
   "metadata": {},
   "outputs": [],
   "source": []
  },
  {
   "cell_type": "markdown",
   "metadata": {},
   "source": [
    "# 오일러-매클로린 공식"
   ]
  },
  {
   "cell_type": "code",
   "execution_count": null,
   "metadata": {},
   "outputs": [],
   "source": []
  },
  {
   "cell_type": "markdown",
   "metadata": {},
   "source": [
    "# 기본 심프슨 공식\n",
    "\n",
    "## 등간격 기본 심프슨 공식\n",
    "\n",
    "\n",
    "## 복합 심프슨 공식\n",
    "\n",
    "## 적응적 심프슨 기법"
   ]
  },
  {
   "cell_type": "code",
   "execution_count": null,
   "metadata": {},
   "outputs": [],
   "source": []
  },
  {
   "cell_type": "markdown",
   "metadata": {},
   "source": [
    "# 가우스 구적법\n",
    "\n",
    "## 르장드르 다항식"
   ]
  },
  {
   "cell_type": "code",
   "execution_count": null,
   "metadata": {},
   "outputs": [],
   "source": []
  }
 ],
 "metadata": {
  "hide_input": false,
  "kernelspec": {
   "display_name": "Python 3",
   "language": "python",
   "name": "python3"
  },
  "language_info": {
   "codemirror_mode": {
    "name": "ipython",
    "version": 3
   },
   "file_extension": ".py",
   "mimetype": "text/x-python",
   "name": "python",
   "nbconvert_exporter": "python",
   "pygments_lexer": "ipython3",
   "version": "3.7.6"
  },
  "toc": {
   "base_numbering": 1,
   "nav_menu": {},
   "number_sections": true,
   "sideBar": true,
   "skip_h1_title": false,
   "title_cell": "Table of Contents",
   "title_sidebar": "Contents",
   "toc_cell": false,
   "toc_position": {},
   "toc_section_display": true,
   "toc_window_display": false
  },
  "varInspector": {
   "cols": {
    "lenName": 16,
    "lenType": 16,
    "lenVar": 40
   },
   "kernels_config": {
    "python": {
     "delete_cmd_postfix": "",
     "delete_cmd_prefix": "del ",
     "library": "var_list.py",
     "varRefreshCmd": "print(var_dic_list())"
    },
    "r": {
     "delete_cmd_postfix": ") ",
     "delete_cmd_prefix": "rm(",
     "library": "var_list.r",
     "varRefreshCmd": "cat(var_dic_list()) "
    }
   },
   "types_to_exclude": [
    "module",
    "function",
    "builtin_function_or_method",
    "instance",
    "_Feature"
   ],
   "window_display": false
  }
 },
 "nbformat": 4,
 "nbformat_minor": 4
}
