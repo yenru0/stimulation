{
 "cells": [
  {
   "cell_type": "code",
   "execution_count": 1,
   "metadata": {
    "collapsed": true
   },
   "outputs": [
    {
     "name": "stdout",
     "output_type": "stream",
     "text": [
      "pygame 1.9.6\n",
      "Hello from the pygame community. https://www.pygame.org/contribute.html\n"
     ]
    }
   ],
   "source": [
    "import os\n",
    "import glob\n",
    "\n",
    "import numpy as np\n",
    "import matplotlib.pyplot as plt\n",
    "import matplotlib.animation as animation\n",
    "import matplotlib.ticker as ticker\n",
    "import IPython.display\n",
    "import pygame\n",
    "from pygame import gfxdraw\n",
    "import cv2\n",
    "\n",
    "pygame.init()\n",
    "\n",
    "def video_write(_path, _outpath, fps = 30):\n",
    "    paths = glob.glob(os.path.join(_path, r\"[0-9]*.png\"))\n",
    "    paths.sort(key=lambda x: int(os.path.splitext(os.path.basename(x))[0]))\n",
    "\n",
    "    height, width, layers = cv2.imread(paths[0]).shape\n",
    "    size = (width, height)\n",
    "\n",
    "    out = cv2.VideoWriter(_outpath, cv2.VideoWriter_fourcc(*\"DIVX\"), fps, size)\n",
    "    for p in paths:\n",
    "        out.write(cv2.imread(p))\n",
    "    out.release()\n",
    "\n",
    "def draw_circle(surface, pos, radius, color):\n",
    "    gfxdraw.aacircle(surface, pos[0], pos[1], radius, color)\n",
    "    gfxdraw.filled_circle(surface, pos[0], pos[1], radius, color)"
   ]
  },
  {
   "cell_type": "markdown",
   "metadata": {
    "pycharm": {
     "name": "#%% md\n"
    }
   },
   "source": [
    "# 진자\n",
    "\n",
    "진자는 진동자의 준말이다.\n",
    "\n",
    "진자의 추가 결국 그 당시의 각과 중력에 따라 달라진다.\n",
    "\n",
    "따라서 당시의 각가속도는 다음과 같다.\n",
    "\n",
    "$${\\frac{d^2\\theta}{dt^2}} = \\frac{-g \\sin\\theta}{l}$$"
   ]
  },
  {
   "cell_type": "code",
   "execution_count": 11,
   "metadata": {
    "pycharm": {
     "name": "#%%\n"
    }
   },
   "outputs": [],
   "source": [
    "class Pendulum:\n",
    "    g = +30\n",
    "    def __init__(self, pivot, m, r, init_theta = 1):\n",
    "        self.pivot = pivot\n",
    "        self.mass = m\n",
    "        self.radius = r\n",
    "        self.angle = init_theta\n",
    "        \n",
    "        self.accel = np.zeros(2)\n",
    "        self.velocity = np.zeros(2)\n",
    "        self.pos = self.pivot + self.radius * np.array((np.sin(init_theta), +np.cos(init_theta)))\n",
    "        \n",
    "        self.angle_velocity = 0\n",
    "        self.angle_accel = 0\n",
    "        \n",
    "    def update(self):\n",
    "        self.angle_accel = - self.g * np.sin(self.angle) / self.radius\n",
    "        self.angle_velocity += self.angle_accel\n",
    "        self.angle += self.angle_velocity\n",
    "        self.pos = self.pivot + self.radius * np.array((np.sin(self.angle), +np.cos(self.angle)))\n",
    "\n",
    "    def draw(self, surface):\n",
    "        pygame.draw.circle(surface, (0, 0, 0), self.pivot.astype(int), 2, )\n",
    "        pygame.draw.line(surface, (0, 0, 0), self.pivot.astype(int), self.pos.astype(int), 1)\n",
    "        pygame.draw.circle(surface, (0, 0, 0), self.pos.astype(int), 10, 0)\n",
    "        \n",
    "        "
   ]
  },
  {
   "cell_type": "code",
   "execution_count": 12,
   "metadata": {
    "pycharm": {
     "name": "#%%\n"
    }
   },
   "outputs": [],
   "source": [
    "width, height = 400, 400\n",
    "\n",
    "\n",
    "surface = pygame.Surface((width, height), flags = pygame.DOUBLEBUF | pygame.HWSURFACE)\n",
    "# surface: pygame.Surface = pygame.display.set_mode((width, height), pygame.DOUBLEBUF | pygame.HWSURFACE)\n",
    "\n",
    "\n",
    "_name = \"pendulum-example\"\n",
    "_path = f\"img/{_name}/\"\n",
    "_outpath = f\"out/{_name}.mp4\"\n",
    "\n",
    "if not os.path.isdir(_path):\n",
    "    os.mkdir(_path)\n",
    "\n",
    "pendulum = Pendulum(np.array((width/2, 10)), 5, 100, 0.5)\n",
    "pendulum2 = Pendulum(pendulum.pos, 5, 100, 1)\n",
    "pendulum3 = Pendulum(pendulum.pos, 5, 100, -0.5)\n",
    "for frame in range(200):\n",
    "    surface.fill((255, 255, 255))\n",
    "\n",
    "    pendulum.update()\n",
    "    pendulum2.pivot = pendulum.pos\n",
    "    pendulum3.pivot = pendulum.pos\n",
    "    pendulum2.update()\n",
    "    pendulum3.update()\n",
    "\n",
    "    pendulum.draw(surface)\n",
    "    pendulum2.draw(surface)\n",
    "    pendulum3.draw(surface)\n",
    "\n",
    "    if True:\n",
    "        pygame.image.save(surface, _path + f\"{frame}.png\")\n",
    "\n",
    "video_write(_path, _outpath)"
   ]
  },
  {
   "cell_type": "markdown",
   "metadata": {
    "pycharm": {
     "name": "#%% md\n"
    }
   },
   "source": [
    "\n",
    "\n"
   ]
  }
 ],
 "metadata": {
  "hide_input": false,
  "kernelspec": {
   "display_name": "Python 3",
   "language": "python",
   "name": "python3"
  },
  "language_info": {
   "codemirror_mode": {
    "name": "ipython",
    "version": 3
   },
   "file_extension": ".py",
   "mimetype": "text/x-python",
   "name": "python",
   "nbconvert_exporter": "python",
   "pygments_lexer": "ipython3",
   "version": "3.7.6"
  },
  "toc": {
   "base_numbering": 1,
   "nav_menu": {},
   "number_sections": true,
   "sideBar": true,
   "skip_h1_title": false,
   "title_cell": "Table of Contents",
   "title_sidebar": "Contents",
   "toc_cell": false,
   "toc_position": {},
   "toc_section_display": true,
   "toc_window_display": false
  },
  "varInspector": {
   "cols": {
    "lenName": 16,
    "lenType": 16,
    "lenVar": 40
   },
   "kernels_config": {
    "python": {
     "delete_cmd_postfix": "",
     "delete_cmd_prefix": "del ",
     "library": "var_list.py",
     "varRefreshCmd": "print(var_dic_list())"
    },
    "r": {
     "delete_cmd_postfix": ") ",
     "delete_cmd_prefix": "rm(",
     "library": "var_list.r",
     "varRefreshCmd": "cat(var_dic_list()) "
    }
   },
   "types_to_exclude": [
    "module",
    "function",
    "builtin_function_or_method",
    "instance",
    "_Feature"
   ],
   "window_display": false
  }
 },
 "nbformat": 4,
 "nbformat_minor": 1
}