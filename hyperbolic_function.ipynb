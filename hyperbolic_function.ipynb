{
 "cells": [
  {
   "cell_type": "code",
   "execution_count": 1,
   "metadata": {
    "collapsed": true
   },
   "outputs": [],
   "source": [
    "import numpy as np\n",
    "import matplotlib.pyplot as plt\n",
    "import matplotlib.animation as animation\n",
    "import matplotlib.ticker as ticker\n",
    "import IPython.display\n",
    "\n",
    "plt.rcParams['font.family'] = [\"D2Coding\"]"
   ]
  },
  {
   "cell_type": "markdown",
   "metadata": {
    "pycharm": {
     "name": "#%% md\n"
    }
   },
   "source": [
    "# 쌍곡선 함수\n",
    "\n",
    "쌍곡선 함수에는 $\\sinh{x}$, $\\cosh{x}$, $\\tanh{x}$ 등이 존재한다.\n",
    "\n",
    "이 쌍곡선 함수는 삼각함수와 유사성이 있다.\n",
    "\n",
    "삼각함수의 경우 $(\\sin{t}, \\cos{t})$의 자취가 원을 나타낸다.\n",
    "\n",
    "$$\\cos^2{t}+\\sin^2{t} = 1$$\n",
    "\n",
    "반면 쌍곡선 함수의 자취인 $(\\sinh{t}, \\cosh{t})$를 나타내보면 쌍곡선을 나타낸다.\n",
    "\n",
    "$$\\cosh^2{t}-\\cosh^2{t} = 1$$\n",
    "\n",
    "또한 원 $x^2+y^2=1$이, $P(\\cos{x}, \\sin{x})$와 이루는 부채꼴이 $\\frac{x}{2}$가 되도록 $\\sin$과 $\\cos$를 정의한다.\n",
    "이와같이 쌍곡선 $x^2-y^2=1$, $P(\\cosh{x}, \\sinh{x})$와 이루는 도형이 $\\frac{x}{2}$가 되도록 $\\sinh$, $\\cosh$를 정의한게 바로 쌍곡선 함수이다.\n",
    "\n",
    "이런 쌍곡선 함수는 삼각함수와 많은 연관을 가진다.\n",
    "\n",
    "## 정의\n",
    "\n",
    "$$\n",
    "\\begin{align*}\n",
    "\\sinh{x}&=\\frac{e^x-e^{-x}}{2}&=-i\\sin{ix}\\\\\n",
    "\\cosh{x}&=\\frac{e^x+e^{-x}}{2}&=\\cos{ix}\\\\\n",
    "\\tanh{x}&=\\frac{\\sinh{x}}{\\cosh{x}}\\\\ \n",
    "\\operatorname{csch}{x}&=\\frac{1}{\\sinh{x}}\\\\\n",
    "\\operatorname{sech}{x}&=\\frac{1}{\\cosh{x}}\\\\\n",
    "\\coth{x}&=\\frac{\\cosh{x}}{\\sinh{x}}\n",
    "\\end{align*}\n",
    "$$"
   ]
  },
  {
   "cell_type": "code",
   "execution_count": 9,
   "metadata": {
    "ExecuteTime": {
     "end_time": "2021-05-19T13:38:31.471676Z",
     "start_time": "2021-05-19T13:38:31.348645Z"
    }
   },
   "outputs": [
    {
     "data": {
      "image/png": "[encoded data removed]",
      "text/plain": [
       "<Figure size 432x288 with 1 Axes>"
      ]
     },
     "metadata": {
      "needs_background": "light"
     },
     "output_type": "display_data"
    }
   ],
   "source": [
    "fig, ax = plt.subplots()\n",
    "\n",
    "domain = np.linspace(-2, 2)\n",
    "\n",
    "ax.plot(domain, np.sinh(domain), color='red')\n",
    "ax.plot(domain, np.cosh(domain), color='blue')\n",
    "ax.plot(domain, np.tanh(domain), color='green')\n",
    "\n",
    "ax.axhline(0, color='black')\n",
    "ax.axvline(0, color='black')\n",
    "\n",
    "ax.legend([\"sinh\", \"cosh\", \"tanh\"])\n",
    "\n",
    "ax.grid()\n",
    "\n",
    "plt.show()"
   ]
  },
  {
   "cell_type": "markdown",
   "metadata": {
    "pycharm": {
     "name": "#%%\n"
    }
   },
   "source": [
    "## 쌍곡선의 여러 연산\n",
    "\n",
    "### 오스본 법칙\n",
    "\n",
    "오스본 법칙은 쌍곡선 함수가 삼각함수와 긴밀한 연관이 있다는데 확언할 수 있도록 한다.\n",
    "\n",
    "$$\n",
    "\\begin{align}\n",
    "\\sin{i\\theta}&=i\\sinh{\\theta}\\\\\n",
    "\\cos{i\\theta}&=\\cosh{\\theta}\\\\\n",
    "\\end{align}\n",
    "$$"
   ]
  },
  {
   "cell_type": "markdown",
   "metadata": {},
   "source": [
    "# 예시\n",
    "\n",
    "## 현수선의 방정식\n",
    "**현수선**은 밀도가 균일한 선이 양끝만 고정되어 길이에 비례하는 외력에 의해 처진 선을 뜻한다. 즉, 밀도가 균일한 선을 양끝에 고정시켰을 떄, 줄의 전체 퍼텐셜 에너지가 최소가 되도록하는 곡선이다.\n",
    "\n",
    "이 현수선의 방정식은 $\\cosh$를 이용해 표현할 수 있는데 다음과 같다.\n",
    "\n",
    "$$y = a\\cosh{\\frac{x}{a}}$$\n",
    "\n",
    "### 유도\n",
    "\n",
    "\n",
    "## 쌍곡탄젠트 함수와 시그모이드\n",
    "\n",
    "시그모이드 함수는 시그모이드 곡선(S형 곡선) 형태의 함수이다.\n",
    "신경망의 **활성화 함수**로 자주 사용됐으며 (현재는 여러 문제 때문에 별로 안 쓰이는 듯)\n",
    "\n",
    "이런 시그모이드 형태의 함수는 예를 들어 다음 함수들이 있다.\n",
    "\n",
    "* 로지스틱 함수\n",
    "\n",
    "$$y=\\frac{1}{1+e^{-x}}$$\n",
    "\n",
    "* 쌍곡탄젠트 함수\n",
    "\n",
    "$$y=\\tanh{x}=\\frac{e^x-e^{-x}}{e^x+e^{-x}}$$\n",
    "\n",
    "* 아크탄젠트(역탄젠트) 함수\n",
    "\n",
    "$$y=\\arctan{x}$$\n",
    "\n",
    "* 오차 함수\n",
    "\n",
    "$$y=\\operatorname{erf}(x)=\\frac{2}{\\sqrt{\\pi}}\\int_0^x e^{-t^2} \\, dt$$\n",
    "\n",
    "* 일부 대수 함수\n",
    "\n",
    "$$\\frac{x}{\\sqrt{1+x^2}}$$"
   ]
  },
  {
   "cell_type": "code",
   "execution_count": null,
   "metadata": {},
   "outputs": [],
   "source": []
  }
 ],
 "metadata": {
  "hide_input": false,
  "kernelspec": {
   "display_name": "Python 3",
   "language": "python",
   "name": "python3"
  },
  "language_info": {
   "codemirror_mode": {
    "name": "ipython",
    "version": 3
   },
   "file_extension": ".py",
   "mimetype": "text/x-python",
   "name": "python",
   "nbconvert_exporter": "python",
   "pygments_lexer": "ipython3",
   "version": "3.7.6"
  },
  "toc": {
   "base_numbering": 1,
   "nav_menu": {},
   "number_sections": true,
   "sideBar": true,
   "skip_h1_title": false,
   "title_cell": "Table of Contents",
   "title_sidebar": "Contents",
   "toc_cell": false,
   "toc_position": {},
   "toc_section_display": true,
   "toc_window_display": true
  },
  "varInspector": {
   "cols": {
    "lenName": 16,
    "lenType": 16,
    "lenVar": 40
   },
   "kernels_config": {
    "python": {
     "delete_cmd_postfix": "",
     "delete_cmd_prefix": "del ",
     "library": "var_list.py",
     "varRefreshCmd": "print(var_dic_list())"
    },
    "r": {
     "delete_cmd_postfix": ") ",
     "delete_cmd_prefix": "rm(",
     "library": "var_list.r",
     "varRefreshCmd": "cat(var_dic_list()) "
    }
   },
   "types_to_exclude": [
    "module",
    "function",
    "builtin_function_or_method",
    "instance",
    "_Feature"
   ],
   "window_display": false
  }
 },
 "nbformat": 4,
 "nbformat_minor": 1
}