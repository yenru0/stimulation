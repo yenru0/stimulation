{
 "cells": [
  {
   "cell_type": "code",
   "execution_count": 1,
   "metadata": {
    "collapsed": true
   },
   "outputs": [],
   "source": [
    "import os\n",
    "\n",
    "from manimlib import *\n",
    "import manimlib\n",
    "import manimlib.utils.tex_file_writing\n",
    "import manimlib.config\n",
    "import numpy as np\n",
    "\n",
    "with open(\"./config/tex_template.tex\", 'r', encoding='utf-8') as f:\n",
    "    manimlib.utils.tex_file_writing.SAVED_TEX_CONFIG = {\n",
    "        \"executable\": \"xelatex -no-pdf\",\n",
    "        \"template_file\": os.path.join(os.getcwd(), \"config\", \"tex_template.tex\"),\n",
    "        \"intermediate_filetype\": \"xdv\",\n",
    "        \"text_to_replace\": \"[tex_expression]\",\n",
    "        \"tex_body\": f.read()\n",
    "    }\n",
    "\n",
    "CFG_FILE_WRITER = {\n",
    "    \"write_to_movie\": True,\n",
    "    \"save_last_frame\": False,\n",
    "    \"output_directory\": \"./out/\",\n",
    "    \"save_pngs\": False,\n",
    "    \"file_name\": \"vs_test\",\n",
    "    \"movie_file_extension\": \".mp4\",\n",
    "    \"png_mode\": \"RGBA\" if False else \"RGB\",\n",
    "    \"input_file_path\": \"\",\n",
    "    \"quiet\": True\n",
    "}\n"
   ]
  },
  {
   "cell_type": "code",
   "execution_count": 4,
   "outputs": [
    {
     "name": "stderr",
     "output_type": "stream",
     "text": [
      "                                                                               \r"
     ]
    },
    {
     "name": "stdout",
     "output_type": "stream",
     "text": [
      "\n",
      "File ready at D:\\WORKS\\Programming\\jupyter_notebook\\stimulation\\out\\videos\\vs_test.mp4\n",
      "\n"
     ]
    }
   ],
   "source": [
    "\n",
    "\n",
    "class HelloWorld(Scene):\n",
    "    def construct(self):\n",
    "        text = Text(\"Here is a text\", font=\"Consolas\", font_size=90)\n",
    "        difference = Text(\n",
    "            \"\"\"\n",
    "            The most important difference between Text and TexText is that\\n\n",
    "            you can change the font more easily, but can't use the LaTeX grammar\n",
    "            \"\"\",\n",
    "            font=\"Arial\", font_size=24,\n",
    "            t2c={\"Text\": BLUE, \"TexText\": BLUE, \"LaTeX\": ORANGE}\n",
    "        )\n",
    "        VGroup(text, difference).arrange(DOWN, buff=1)\n",
    "        self.play(Write(text))\n",
    "        self.play(FadeIn(difference, UP))\n",
    "        self.wait(3)\n",
    "\n",
    "        fonts = Text(\n",
    "            \"And you can also set the font according to different words\",\n",
    "            font=\"NanumGothic\",\n",
    "            font_size=11,\n",
    "            t2f={\"font\": \"Consolas\", \"words\": \"Consolas\"},\n",
    "            t2c={\"font\": BLUE, \"words\": GREEN}\n",
    "        )\n",
    "        slant = Text(\n",
    "            \"And the same as slant and weight\",\n",
    "            font=\"Consolas\",\n",
    "            font_size=11,\n",
    "            t2s={\"slant\": ITALIC},\n",
    "            t2w={\"weight\": BOLD},\n",
    "            t2c={\"slant\": ORANGE, \"weight\": RED}\n",
    "        )\n",
    "        VGroup(fonts, slant).arrange(DOWN, buff=0.8)\n",
    "        self.play(FadeOut(text), FadeOut(difference, shift=DOWN))\n",
    "        self.play(Write(fonts))\n",
    "        self.wait()\n",
    "        self.play(Write(slant))\n",
    "        self.wait()\n",
    "\n",
    "HelloWorld.CONFIG[\"file_writer_config\"] = CFG_FILE_WRITER\n",
    "HelloWorld.CONFIG[\"preview\"] = False\n",
    "\n",
    "HelloWorld().run()"
   ],
   "metadata": {
    "collapsed": false,
    "pycharm": {
     "name": "#%%\n"
    }
   }
  },
  {
   "cell_type": "code",
   "execution_count": null,
   "outputs": [],
   "source": [],
   "metadata": {
    "collapsed": false,
    "pycharm": {
     "name": "#%%\n"
    }
   }
  }
 ],
 "metadata": {
  "kernelspec": {
   "display_name": "Python 3",
   "language": "python",
   "name": "python3"
  },
  "language_info": {
   "codemirror_mode": {
    "name": "ipython",
    "version": 2
   },
   "file_extension": ".py",
   "mimetype": "text/x-python",
   "name": "python",
   "nbconvert_exporter": "python",
   "pygments_lexer": "ipython2",
   "version": "2.7.6"
  }
 },
 "nbformat": 4,
 "nbformat_minor": 0
}