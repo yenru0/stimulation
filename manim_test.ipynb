{
 "cells": [
  {
   "cell_type": "code",
   "execution_count": 137,
   "metadata": {
    "collapsed": true
   },
   "outputs": [],
   "source": [
    "import os\n",
    "\n",
    "from manimlib import *\n",
    "import manimlib\n",
    "import manimlib.utils.tex_file_writing\n",
    "import manimlib.config\n",
    "import numpy as np\n",
    "\n",
    "with open(\"./config/tex_template.tex\", 'r', encoding='utf-8') as f:\n",
    "    manimlib.utils.tex_file_writing.SAVED_TEX_CONFIG = {\n",
    "        \"executable\": \"xelatex -no-pdf\",\n",
    "        \"template_file\": os.path.join(os.getcwd(), \"config\", \"tex_template.tex\"),\n",
    "        \"intermediate_filetype\": \"xdv\",\n",
    "        \"text_to_replace\": \"[tex_expression]\",\n",
    "        \"tex_body\": f.read()\n",
    "    }\n",
    "\n",
    "CFG_FILE_WRITER = {\n",
    "    \"write_to_movie\": True,\n",
    "    \"save_last_frame\": False,\n",
    "    \"output_directory\": \"./out/\",\n",
    "    \"save_pngs\": False,\n",
    "    \"file_name\": \"vs_test\",\n",
    "    \"movie_file_extension\": \".mp4\",\n",
    "    \"png_mode\": \"RGBA\" if False else \"RGB\",\n",
    "    \"input_file_path\": \"\",\n",
    "    \"quiet\": True\n",
    "}\n"
   ]
  },
  {
   "cell_type": "code",
   "execution_count": null,
   "outputs": [
    {
     "name": "stderr",
     "output_type": "stream",
     "text": [
      "Animation 0: WriteVGroup:   3%|3         | 2/60 [00:00<00:04, 13.48it/s]"
     ]
    }
   ],
   "source": [
    "\n",
    "\n",
    "class HelloWorld(Scene):\n",
    "    def construct(self):\n",
    "        text = VGroup(\n",
    "            *[TexText(r\"\\tiny\"+r\"청어를 구하고 있었다. 사실 이 청어는 별로 중요하지 않지만 청어 볶음을 만들 때는 매우 필요한 것이다. 필요하지 않다고 생각되는 것은 당신의 고정관념 때문이다.\", font_size=42,) for _ in range(10)],\n",
    "        ).arrange(DOWN, aligned_edge=LEFT)\n",
    "        text.set_color_by_gradient(RED, YELLOW, GREEN, BLUE, PURPLE)\n",
    "        self.play(Write(text))\n",
    "        self.wait()\n",
    "        self.wait(3)\n",
    "\n",
    "HelloWorld.CONFIG[\"file_writer_config\"] = CFG_FILE_WRITER\n",
    "HelloWorld.CONFIG[\"preview\"] = False\n",
    "\n",
    "HelloWorld().run()"
   ],
   "metadata": {
    "collapsed": false,
    "pycharm": {
     "name": "#%%\n",
     "is_executing": true
    }
   }
  },
  {
   "cell_type": "code",
   "execution_count": null,
   "outputs": [],
   "source": [],
   "metadata": {
    "collapsed": false,
    "pycharm": {
     "name": "#%%\n"
    }
   }
  }
 ],
 "metadata": {
  "kernelspec": {
   "display_name": "Python 3",
   "language": "python",
   "name": "python3"
  },
  "language_info": {
   "codemirror_mode": {
    "name": "ipython",
    "version": 2
   },
   "file_extension": ".py",
   "mimetype": "text/x-python",
   "name": "python",
   "nbconvert_exporter": "python",
   "pygments_lexer": "ipython2",
   "version": "2.7.6"
  }
 },
 "nbformat": 4,
 "nbformat_minor": 0
}