{
 "cells": [
  {
   "cell_type": "code",
   "execution_count": 1,
   "metadata": {
    "ExecuteTime": {
     "end_time": "2021-07-15T22:05:34.310894Z",
     "start_time": "2021-07-15T22:05:34.002735Z"
    }
   },
   "outputs": [],
   "source": [
    "import os\n",
    "\n",
    "import numpy as np\n",
    "import matplotlib.pyplot as plt\n",
    "import matplotlib.animation as animation\n",
    "import matplotlib.ticker as ticker\n",
    "import IPython.display\n",
    "\n",
    "plt.rcParams['font.family'] = [\"D2Coding\"]\n",
    "\n",
    "NOTEBOOK_ID = \"MEMBRANE_POTENTIAL\"\n",
    "OUTPUT_PATH = f\"out/{NOTEBOOK_ID}/\"\n",
    "\n",
    "if not os.path.isdir(OUTPUT_PATH):\n",
    "    os.mkdir(OUTPUT_PATH)"
   ]
  },
  {
   "cell_type": "markdown",
   "metadata": {
    "pycharm": {
     "name": "#%% md\n"
    }
   },
   "source": [
    "# 막전위\n",
    "\n",
    "## 확산 방정식과 막\n",
    "\n",
    "## Goldman-Hodgkin-Katz Voltage Equation(more commonly, Goldman Equation)\n",
    "\n",
    "대강\n",
    "\n",
    "$$V_m = 61\\log\\frac{P_\\text{Na}[\\text{Na}^+]_\\text{o}+P_\\text{K}[\\text{K}^+]_\\text{o}}{P_\\text{Na}[\\text{Na}^+]_\\text{i}+P_\\text{K}[\\text{K}^+]_\\text{i}}$$\n"
   ]
  },
  {
   "cell_type": "markdown",
   "metadata": {},
   "source": [
    "## 모델 구성\n",
    "\n",
    "* 공간\n",
    "    * 막\n",
    "        * 채널(막투과도 조정)\n",
    "        * 펌프"
   ]
  },
  {
   "cell_type": "code",
   "execution_count": 2,
   "metadata": {
    "ExecuteTime": {
     "end_time": "2021-07-15T22:05:35.396497Z",
     "start_time": "2021-07-15T22:05:35.376495Z"
    }
   },
   "outputs": [],
   "source": [
    "class Space:\n",
    "    def __init__(self, t, dt, domain, dx, ion_size=2, D=0.1):\n",
    "        self.D = D\n",
    "        self.domain = domain\n",
    "        self.dx = dx\n",
    "        self.t = t\n",
    "        self.dt = dt\n",
    "        self.ion_size = ion_size\n",
    "        self.n = np.empty((len(t), self.ion_size, len(domain)))\n",
    "        \n",
    "        self.r = D * dt / dx ** 2\n",
    "        \n",
    "        self.membranes = []\n",
    "\n",
    "    def render(self):\n",
    "        # normal bound\n",
    "        for it in range(0, len(self.t) - 1):\n",
    "            [membrane.event(self.t[it]) for membrane in self.membranes]\n",
    "            \n",
    "            for ix in range(1, len(domain) - 1):\n",
    "                for membrane in self.membranes:\n",
    "                    if membrane.check_is_in_membrane(domain[ix]):\n",
    "                        for ion in range(self.ion_size):\n",
    "                            D = membrane.permeability_for(ion)\n",
    "                            self.n[it + 1, ion, ix] = self.n[it, ion, ix] + (D * dt / dx ** 2) * (\n",
    "                                    self.n[it, ion, ix + 1] - 2 * self.n[it, ion, ix] + self.n[it, ion, ix - 1])\n",
    "                        break\n",
    "                else:\n",
    "                    for ion in range(self.ion_size):\n",
    "                        self.n[it + 1, ion, ix] = self.n[it, ion, ix] + (self.D * dt / dx ** 2) * (\n",
    "                                self.n[it, ion, ix + 1] - 2 * self.n[it, ion, ix] + self.n[it, ion, ix - 1])\n",
    "            for ion in range(self.ion_size):\n",
    "                self.n[it + 1, ion, 0] = self.n[it + 1, ion, 1]\n",
    "                self.n[it + 1, ion, -1] = self.n[it + 1, ion, -2]\n",
    "    def add_membrane(self, membrane: 'Membrane'):\n",
    "        self.membranes.append(membrane)\n",
    "\n",
    "\n",
    "class Membrane:\n",
    "    def __init__(self, space: 'Space', interval):\n",
    "        self.space = space\n",
    "        self.channels = []\n",
    "        self.distribution = []\n",
    "        self.interval = (interval[0], interval[1])\n",
    "\n",
    "    def add_channel(self, channel: 'Channel'):\n",
    "        self.channels.append(channel)\n",
    "        self.distribution.append(1)\n",
    "\n",
    "    def check_is_in_membrane(self, x):\n",
    "        return self.interval[0] <= x <= self.interval[1]\n",
    "\n",
    "    def permeability_for(self, ion):\n",
    "        i_for = [i for i in range(len(self.channels)) if self.channels[i].ion == ion]\n",
    "        if i_for:\n",
    "            permeability = np.sum([self.channels[i].open_rate * self.distribution[i] for i in i_for])\n",
    "        else:\n",
    "            permeability = 0\n",
    "        return permeability\n",
    "\n",
    "    def event(self, time):\n",
    "        [ch.event(time) for ch in self.channels]\n",
    "\n",
    "\n",
    "class Channel:\n",
    "    def __init__(self, membrane: 'Membrane', ion):\n",
    "        self.membrane = membrane\n",
    "        self.open_rate = 0\n",
    "        self.ion = ion\n",
    "\n",
    "    def stimulate(self, ):\n",
    "        pass\n",
    "\n",
    "    def event(self, time):\n",
    "        pass\n",
    "\n",
    "\n",
    "class NormalSpecificChannel(Channel):\n",
    "    def __init__(self, membrane, stimulate_timings, ion=0):\n",
    "        super().__init__(membrane, ion)\n",
    "\n",
    "        self.ISFINISH = False\n",
    "\n",
    "        self.stimulate_timings = stimulate_timings\n",
    "        if len(self.stimulate_timings) == 0:\n",
    "            self.ISFINISH = True\n",
    "        self.stimulate_wait = 0\n",
    "\n",
    "        self.stimulated = False\n",
    "\n",
    "    def stimulate(self, ):\n",
    "        self.stimulated = True\n",
    "\n",
    "    def event(self, time):\n",
    "        if self.stimulated:\n",
    "            self.open_rate += 0.0001\n",
    "            if self.open_rate >= 1:\n",
    "                self.stimulated = False\n",
    "                self.open_rate = min([self.open_rate, 1])\n",
    "        else:\n",
    "            self.open_rate -= 0.0001\n",
    "            self.open_rate = max([self.open_rate, 0])\n",
    "\n",
    "        if time >= self.stimulate_timings[self.stimulate_wait] and not self.ISFINISH:\n",
    "            self.stimulate()\n",
    "            if len(self.stimulate_timings) > self.stimulate_wait + 1:\n",
    "                self.stimulate_wait += 1\n",
    "            else:\n",
    "                self.ISFINISH = True"
   ]
  },
  {
   "cell_type": "code",
   "execution_count": 12,
   "metadata": {
    "ExecuteTime": {
     "end_time": "2021-07-15T23:04:29.267851Z",
     "start_time": "2021-07-15T23:02:33.733495Z"
    },
    "scrolled": false
   },
   "outputs": [
    {
     "data": {
      "text/html": [
       "<video src=\"out/MEMBRANE_POTENTIAL/membrane.mp4\" controls  width=\"640\"  height=\"640\">\n",
       "      Your browser does not support the <code>video</code> element.\n",
       "    </video>"
      ],
      "text/plain": [
       "<IPython.core.display.Video object>"
      ]
     },
     "execution_count": 12,
     "metadata": {},
     "output_type": "execute_result"
    }
   ],
   "source": [
    "fig, ax = plt.subplots(1, 1, figsize=(8, 8), dpi=200)\n",
    "\n",
    "domain, dx = np.linspace(0, 1, 100, retstep=True)\n",
    "t, dt = np.linspace(0, 2, 200000, retstep=True)\n",
    "\n",
    "space = Space(t, dt, domain, dx, 2)\n",
    "membrane = Membrane(space, [0.48, 0.52])\n",
    "space.add_membrane(membrane)\n",
    "ch1 = NormalSpecificChannel(membrane, [0.5])\n",
    "membrane.add_channel(ch1)\n",
    "ch2 = NormalSpecificChannel(membrane, [1.0], ion=1)\n",
    "membrane.add_channel(ch2)\n",
    "\n",
    "membrane.distribution[0] = 0.001\n",
    "membrane.distribution[1] = 0.002\n",
    "\n",
    "space.n[0, 0] = np.empty_like(domain)\n",
    "space.n[0, 1] = np.empty_like(domain)\n",
    "space.n[0, 0][domain > 0.5] = 1\n",
    "space.n[0, 0][domain <= 0.5] = 0.05\n",
    "space.n[0, 1][domain > 0.5] = 0.05\n",
    "space.n[0, 1][domain <= 0.5] = 1\n",
    "\n",
    "space.render()\n",
    "\n",
    "N1, = ax.plot(domain, space.n[0, 0], color='red')\n",
    "N2, = ax.plot(domain, space.n[0, 1], color='blue')\n",
    "ax.set_ylim((-0.2, 1.2))\n",
    "\n",
    "\n",
    "def animate(frame):\n",
    "    N1.set_data(domain, space.n[frame * 1000, 0])\n",
    "    N2.set_data(domain, space.n[frame * 1000, 1])\n",
    "    ax.set_title(f\"t={round(t[frame * 1000], 3)}\")\n",
    "    return N1, N2\n",
    "\n",
    "\n",
    "anim = animation.FuncAnimation(fig, animate, frames=200, interval=100)\n",
    "plt.close()\n",
    "\n",
    "anim.save(OUTPUT_PATH + \"membrane.mp4\", dpi=100)\n",
    "IPython.display.Video(OUTPUT_PATH + \"membrane.mp4\", width=80 * 8, height=80 * 8)"
   ]
  },
  {
   "cell_type": "code",
   "execution_count": 13,
   "metadata": {
    "ExecuteTime": {
     "end_time": "2021-07-15T23:06:07.016588Z",
     "start_time": "2021-07-15T23:06:06.878429Z"
    },
    "scrolled": true
   },
   "outputs": [
    {
     "data": {
      "text/plain": [
       "[<matplotlib.lines.Line2D at 0x23703393ac8>]"
      ]
     },
     "execution_count": 13,
     "metadata": {},
     "output_type": "execute_result"
    },
    {
     "data": {
      "image/png": "[encoded data removed]",
      "text/plain": [
       "<Figure size 720x288 with 1 Axes>"
      ]
     },
     "metadata": {
      "needs_background": "light"
     },
     "output_type": "display_data"
    }
   ],
   "source": [
    "fig, ax = plt.subplots(1, 1, figsize=(10, 4))\n",
    "\n",
    "#ax.plot(t, (n[:, 20] + k[:, 20]) - (n[:, 80] + k[:, 80]))\n",
    "ax.plot(t, space.n[:, 0, 0] + space.n[:, 1, 0] - space.n[:, 0, -1] - space.n[:, 1, -1])"
   ]
  },
  {
   "cell_type": "code",
   "execution_count": null,
   "metadata": {},
   "outputs": [],
   "source": []
  }
 ],
 "metadata": {
  "hide_input": false,
  "kernelspec": {
   "display_name": "Python 3",
   "language": "python",
   "name": "python3"
  },
  "language_info": {
   "codemirror_mode": {
    "name": "ipython",
    "version": 3
   },
   "file_extension": ".py",
   "mimetype": "text/x-python",
   "name": "python",
   "nbconvert_exporter": "python",
   "pygments_lexer": "ipython3",
   "version": "3.7.6"
  },
  "toc": {
   "base_numbering": 1,
   "nav_menu": {},
   "number_sections": true,
   "sideBar": true,
   "skip_h1_title": false,
   "title_cell": "Table of Contents",
   "title_sidebar": "Contents",
   "toc_cell": false,
   "toc_position": {},
   "toc_section_display": true,
   "toc_window_display": false
  },
  "varInspector": {
   "cols": {
    "lenName": 16,
    "lenType": 16,
    "lenVar": 40
   },
   "kernels_config": {
    "python": {
     "delete_cmd_postfix": "",
     "delete_cmd_prefix": "del ",
     "library": "var_list.py",
     "varRefreshCmd": "print(var_dic_list())"
    },
    "r": {
     "delete_cmd_postfix": ") ",
     "delete_cmd_prefix": "rm(",
     "library": "var_list.r",
     "varRefreshCmd": "cat(var_dic_list()) "
    }
   },
   "types_to_exclude": [
    "module",
    "function",
    "builtin_function_or_method",
    "instance",
    "_Feature"
   ],
   "window_display": false
  }
 },
 "nbformat": 4,
 "nbformat_minor": 1
}