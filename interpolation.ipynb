{
 "cells": [
  {
   "cell_type": "code",
   "execution_count": 8,
   "metadata": {
    "ExecuteTime": {
     "end_time": "2021-02-14T15:40:58.694123Z",
     "start_time": "2021-02-14T15:40:58.403159Z"
    }
   },
   "outputs": [],
   "source": [
    "import numpy as np\n",
    "import matplotlib.pyplot as plt\n",
    "import matplotlib.animation as animation\n",
    "import matplotlib.ticker\n",
    "import IPython.display"
   ]
  },
  {
   "cell_type": "markdown",
   "metadata": {},
   "source": [
    "#  보간법\n",
    "주어진 점을 정확히 재현하는 간단하고 편리한 식이 있는가?"
   ]
  },
  {
   "cell_type": "markdown",
   "metadata": {},
   "source": [
    "# 보간 다항식의 라그랑주 형태\n",
    "\n",
    "$n+1$개의 $n$차 다항식(AKA 기수 다항식)으로 이루어진 시스템을 정의하자.\n",
    "이 다항식들은 $\\ell_0, \\ell_1, \\dots, \\ell_n$으로 표현되며, 다음의 성질을 가진다.\n",
    "\n",
    "$$\\ell_i(x_j) = \\delta_{ij} = \\begin{cases} 0 & (i\\neq j) \\\\ 1 & (i = j) \\end{cases}$$\n",
    "\n",
    "이런 다항식들로부터 어떤 함수 $f$라도 다음의 **보간 다항식의 라그랑주 형태**로 보간할 수 있다.\n",
    "\n",
    "$$p_n(x) = \\sum^n_{i=0}{\\ell_i(x)f(x_i)}$$\n",
    "\n",
    "기수다항식 $\\ell_i$는 다음과 같다.\n",
    "\n",
    "$$\\ell_i(x) = \\prod^n_{\\substack{j \\neq i \\\\ j = i}}{\\left(\\frac{x-x_j}{x_i-x_j}  \\right)}$$"
   ]
  },
  {
   "cell_type": "code",
   "execution_count": 18,
   "metadata": {
    "ExecuteTime": {
     "end_time": "2021-02-14T15:56:00.110994Z",
     "start_time": "2021-02-14T15:56:00.106997Z"
    }
   },
   "outputs": [
    {
     "data": {
      "image/png": "[encoded data removed]",
      "text/plain": [
       "<Figure size 432x288 with 1 Axes>"
      ]
     },
     "metadata": {
      "needs_background": "light"
     },
     "output_type": "display_data"
    }
   ],
   "source": [
    "# some codes for 'Lagrange form'\n",
    "\n",
    "def cardinal(xset, i, x):\n",
    "    n = len(xset)\n",
    "    _f = lambda j: (x-xset[j])/(xset[i] - xset[j])\n",
    "    return np.prod([_f(j) for j in range(i, n) if i != j])\n",
    "\n",
    "def lagrangian_form(xset, yset, x):\n",
    "    n = len(xset)\n",
    "    return np.sum([cardinal(xset, i, x)*yset[i] for i in range(n)])\n",
    "\n",
    "_xs = [0, 1, 2, 4]\n",
    "_ys = [-1, -1, -1, -1]\n",
    "\n",
    "D = np.linspace(-10, 10)\n",
    "\n",
    "plt.plot(D, [lagrangian_form(_xs, _ys, x) for x in D])\n",
    "plt.show()\n"
   ]
  },
  {
   "cell_type": "markdown",
   "metadata": {},
   "source": [
    "# 보간 다항식의 뉴턴 형태\n",
    "\n",
    "$$p_n(x) = \\sum^n_{i=0}a_i{\\prod^{i-1}_{j=0}{(x-x_j)}}$$\n",
    "\n",
    "여기서 $\\prod^{-1}_{j=0}{(x-x_j)}=1$로 해석한다."
   ]
  },
  {
   "cell_type": "code",
   "execution_count": null,
   "metadata": {},
   "outputs": [],
   "source": []
  },
  {
   "cell_type": "markdown",
   "metadata": {},
   "source": [
    "# 분할차분\n",
    "\n",
    "$p_n$의 계수 $a_0,a_1,a_2,\\dots,a_n$을 체계적으로 결정하기 위해 $x$를 $x_0,x_1,x_2,\\dots,x_n$으로 대체하고 그 결과식을 쓴다.\n",
    "$$\\begin{cases} f(x_0) = a_0 \\\\ f(x_1) = a_0 + a_1(x_1-x_0) \\\\ f(x_2) = a_0 + a_1(x_2-x_0) + a_2(x_2-x_1) \\\\ \\vdots \\end{cases}$$\n",
    "\n",
    "이 식을 압축한 형태는 다음과 같다.\n",
    "$$f(x_k) = \\sum^k_{i=0}{a_i\\prod^{i-1}_{j=0}{(x_k-x_j)}} \\;\\; (0\\leq k \\leq n)$$\n",
    "\n",
    "이를 통해 $a_k$는 $f(x_0),f(x_1),\\dots, f(x_k)$에 의존한다. 즉, $a_k$는 노드 $x_0,x_1,\\dots, x_k$에서의 함수 $f$의 값에 의존한다. 이를 기호로 다음과 같이 나타낸다.\n",
    "$$a_k = f[x_0,x_1,\\dots,x_k]$$\n",
    "\n",
    "이를 $f$에 대한 <strong>$k$차 분할차분</strong>이라고 한다.\n",
    "\n",
    "이 표기에 의해 보간 다항식의 뉴턴 형태는 다음과 같은 형태를 취한다.\n",
    "\n",
    "$$p_n(x) = \\sum^n_{i=0}\\left(f[x_0,x_1,\\dots,x_i]{\\prod^{i-1}_{j=0}{(x-x_j)}}\\right)$$\n",
    "\n",
    "이제 이를 통해 어떻게 분할차분을 계산할 것인가에 대한 답을 만들어 낼 수 있다. 그 답은 다음과 같다.\n",
    "\n",
    "$$ \\begin{equation*} { f[x_0,x_1,\\dots,x_k] = \\frac{f(x_k)-\\sum^{k-1}_{i=0}{f[x_0, x_1, \\dots, x_i] \\prod^{i-1}_{j=0} {(x_k-x_j)} }}{\\prod^{k-1}_{j=0}{(x_k-x_j)}}} \\end{equation*} $$\n",
    "\n",
    "\n"
   ]
  },
  {
   "cell_type": "code",
   "execution_count": 1,
   "metadata": {
    "ExecuteTime": {
     "end_time": "2021-02-15T11:53:52.945702Z",
     "start_time": "2021-02-15T11:53:52.943701Z"
    }
   },
   "outputs": [],
   "source": [
    "# for 분할차분"
   ]
  },
  {
   "cell_type": "markdown",
   "metadata": {},
   "source": [
    "## 분할차분의 성질\n",
    "### 분할차분의 재귀적 성질\n",
    "\n",
    "\n",
    "> $$f[x_0,x_1,\\dots,x_k] = \\frac{f[x_1,x_2,\\dots,x_k]-f[x_0,x_1,\\dots,x_{k-1}]}{x_k-x_0}$$\n",
    "\n",
    "### 불변 정리\n",
    "\n",
    "> 분할차분 $f[x_0,x_1,\\dots,x_k]$는 $x_0,x_1,\\dots,x_k$의 순서가 바뀐 모든 순열에 대해 불변이다.\n"
   ]
  },
  {
   "cell_type": "code",
   "execution_count": null,
   "metadata": {},
   "outputs": [],
   "source": []
  },
  {
   "cell_type": "markdown",
   "metadata": {},
   "source": [
    "# 반데몬드 행렬\n",
    "보간의 또 다른 시각은 주어진 데이터 점 집합에 대해 보간 함수 $f(x)$를 다음과 같이 **기저 함수** $\\phi_0,\\phi_1,\\phi_2,\\dots, \\phi_n$들의 선형 결합으로 표현하는 것이다.\n",
    "\n",
    "$$f(x) \\approx c_0\\phi_0(x)+c_1\\phi_1(x)+c_2\\phi_2(x)+\\dots+c_n\\phi_n(x)$$\n",
    "\n",
    "이는 다음 형태의 선형 방정식이 성립함을 의미한다.\n",
    "\n",
    "$$f(x_i)=c_0\\phi_0(x_i)+c_1\\phi_1(x_i)+c_2\\phi_2(x_i)+\\dots+c_n\\phi_n(x_i)=y_i$$\n",
    "\n",
    "다항식은 가장 간단하고 일반적인 기저 함수로, $\\mathbb{P}_n$에 대한 자연스러운 기저들은 단항들로 이루어져 있다.\n",
    "\n",
    "$$\\phi_0(x)=1,\\,\\phi_1(x)=x,\\,\\phi_2(x)=x^2,\\,\\dots,\\,\\phi_n(x)=x^n$$\n",
    "\n",
    "결과적으로 이에 대응하는 선형 시스템은 다음과 같은 형태를 보인다.\n",
    "\n",
    "$$\n",
    "\\begin{bmatrix}\n",
    "1 & x_0 & x_0^2 &\\cdots & x_0^n \\\\\n",
    "1 & x_1 & x_1^2 &\\cdots & x_1^n \\\\\n",
    "1 & x_2 & x_2^2 &\\cdots & x_2^n \\\\\n",
    "\\vdots & \\vdots & \\vdots & \\ddots & \\vdots \\\\\n",
    "1 & x_n & x_n^2 &\\cdots & x_n^n\n",
    "\\end{bmatrix}\n",
    "\\begin{bmatrix}\n",
    "c_0 \\\\ c_1 \\\\ c_2 \\\\ \\vdots \\\\ c_n\n",
    "\\end{bmatrix}\n",
    "=\n",
    "\\begin{bmatrix}\n",
    "y_0 \\\\ y_1 \\\\ y_2 \\\\ \\vdots \\\\ y_n\n",
    "\\end{bmatrix}\n",
    "$$\n",
    "\n",
    "이 계수행렬을 **반데몬드 행렬**이라 부른다.\n"
   ]
  },
  {
   "cell_type": "code",
   "execution_count": null,
   "metadata": {},
   "outputs": [],
   "source": []
  },
  {
   "cell_type": "markdown",
   "metadata": {},
   "source": [
    "# 역보간\n",
    "역함수를 근사할 때 사용한다.\n"
   ]
  },
  {
   "cell_type": "code",
   "execution_count": null,
   "metadata": {},
   "outputs": [],
   "source": []
  }
 ],
 "metadata": {
  "hide_input": false,
  "kernelspec": {
   "display_name": "Python 3",
   "language": "python",
   "name": "python3"
  },
  "language_info": {
   "codemirror_mode": {
    "name": "ipython",
    "version": 3
   },
   "file_extension": ".py",
   "mimetype": "text/x-python",
   "name": "python",
   "nbconvert_exporter": "python",
   "pygments_lexer": "ipython3",
   "version": "3.7.6"
  },
  "toc": {
   "base_numbering": 1,
   "nav_menu": {},
   "number_sections": true,
   "sideBar": true,
   "skip_h1_title": false,
   "title_cell": "Table of Contents",
   "title_sidebar": "Contents",
   "toc_cell": false,
   "toc_position": {},
   "toc_section_display": true,
   "toc_window_display": false
  },
  "varInspector": {
   "cols": {
    "lenName": 16,
    "lenType": 16,
    "lenVar": 40
   },
   "kernels_config": {
    "python": {
     "delete_cmd_postfix": "",
     "delete_cmd_prefix": "del ",
     "library": "var_list.py",
     "varRefreshCmd": "print(var_dic_list())"
    },
    "r": {
     "delete_cmd_postfix": ") ",
     "delete_cmd_prefix": "rm(",
     "library": "var_list.r",
     "varRefreshCmd": "cat(var_dic_list()) "
    }
   },
   "types_to_exclude": [
    "module",
    "function",
    "builtin_function_or_method",
    "instance",
    "_Feature"
   ],
   "window_display": false
  }
 },
 "nbformat": 4,
 "nbformat_minor": 4
}