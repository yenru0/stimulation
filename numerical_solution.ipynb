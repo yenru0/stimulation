{
 "cells": [
  {
   "cell_type": "code",
   "execution_count": 1,
   "metadata": {
    "ExecuteTime": {
     "end_time": "2021-03-20T03:07:32.047133Z",
     "start_time": "2021-03-20T03:07:31.775152Z"
    }
   },
   "outputs": [],
   "source": [
    "import os\n",
    "\n",
    "import numpy as np\n",
    "import matplotlib.pyplot as plt\n",
    "import matplotlib.animation as animation\n",
    "import matplotlib.ticker\n",
    "import IPython.display\n",
    "\n",
    "NOTEBOOK_ID = \"NUMERICAL_SOLUTION\"\n",
    "OUTPUT_PATH = f\"out/{NOTEBOOK_ID}/\"\n",
    "\n",
    "if not os.path.isdir(OUTPUT_PATH):\n",
    "    os.mkdir(OUTPUT_PATH)"
   ]
  },
  {
   "cell_type": "markdown",
   "metadata": {},
   "source": [
    "# 이분법(bisection method)"
   ]
  },
  {
   "cell_type": "code",
   "execution_count": 2,
   "metadata": {
    "ExecuteTime": {
     "end_time": "2021-03-20T03:07:32.056151Z",
     "start_time": "2021-03-20T03:07:32.048180Z"
    }
   },
   "outputs": [],
   "source": [
    "def bisection_once(f, a, b, e=1e-6):\n",
    "    fa, fb = f(a), f(b)\n",
    "    error = b - a\n",
    "    error = error/2\n",
    "    c = a + error\n",
    "    fc = f(c)\n",
    "    if abs(error) < e:\n",
    "        # convergence\n",
    "        return a, b, True, fa, fb\n",
    "    if np.sign(fa) != np.sign(fc):\n",
    "        b = c\n",
    "        fb = fc\n",
    "    else:\n",
    "        a = c\n",
    "        fa = fc\n",
    "    return a, b, False, fa, fb\n",
    "\n",
    "def bisection(f, a, b, nmax=20, e=1e-6):\n",
    "    fa, fb = f(a), f(b)\n",
    "    if np.sign(fa) == np.sign(fb):\n",
    "        return\n",
    "    error = b - a\n",
    "    for n in range(nmax + 1):\n",
    "        error = error/2\n",
    "        c = a + error\n",
    "        fc = f(c)\n",
    "        if abs(error) < e:\n",
    "            # convergence\n",
    "            return a, b, True, fa, fb\n",
    "        \n",
    "        if np.sign(fa) != np.sign(fc):\n",
    "            b = c\n",
    "            fb = fc\n",
    "        else:\n",
    "            a = c\n",
    "            fa = fc\n",
    "    return a, b, False, fa, fb\n",
    "        "
   ]
  },
  {
   "cell_type": "code",
   "execution_count": 3,
   "metadata": {
    "ExecuteTime": {
     "end_time": "2021-03-20T03:07:33.340739Z",
     "start_time": "2021-03-20T03:07:32.057148Z"
    }
   },
   "outputs": [
    {
     "name": "stdout",
     "output_type": "stream",
     "text": [
      "convergence value: 0.34729671478271484\n"
     ]
    },
    {
     "data": {
      "text/html": [
       "<video src=\"out/NUMERICAL_SOLUTION/bisection.mp4\" controls  width=\"500\" >\n",
       "      Your browser does not support the <code>video</code> element.\n",
       "    </video>"
      ],
      "text/plain": [
       "<IPython.core.display.Video object>"
      ]
     },
     "execution_count": 3,
     "metadata": {},
     "output_type": "execute_result"
    }
   ],
   "source": [
    "fig, ax = plt.subplots()\n",
    "ax.set_xlim((0-0.05, 1+0.05))\n",
    "\n",
    "domain = np.linspace(0, 1, 1000)\n",
    "codomain = np.linspace(-1, 1, 10)\n",
    "\n",
    "ax.xaxis.set_major_locator(matplotlib.ticker.MultipleLocator(base=0.1))\n",
    "ax.yaxis.set_major_locator(matplotlib.ticker.MultipleLocator(base=1))\n",
    "a = 0\n",
    "b = 1\n",
    "f = lambda x: x**3-3*x+1\n",
    "T = [(a, b, (a+b)/2)]\n",
    "for i in range(50):\n",
    "    a, b, isconv, fa, fb = bisection_once(f, a, b)\n",
    "    T.append((a, b, (a+b)/2))\n",
    "    if isconv:\n",
    "        print(\"convergence value:\", (a+b)/2)\n",
    "        break\n",
    "\n",
    "ax.plot(domain, domain**3-3*domain+1, 'g')\n",
    "ax.plot(domain, np.zeros_like(domain), 'black')\n",
    "_la, = plt.plot([], [], 'b')\n",
    "_lb, = plt.plot([], [], 'b')\n",
    "_lc, = plt.plot([], [], 'r')\n",
    "def animate(frame):\n",
    "    _a, _b, _c = T[frame]\n",
    "    _la.set_data(np.full_like(codomain, _a), codomain)\n",
    "    _lb.set_data(np.full_like(codomain, _b), codomain)\n",
    "    _lc.set_data(np.full_like(codomain, _c), codomain)\n",
    "    ax.set_title(f\"mean: {_c}\")\n",
    "    return _la, _lb, _lc\n",
    "\n",
    "anim = animation.FuncAnimation(fig, animate, frames=len(T), interval=500)\n",
    "anim.save(OUTPUT_PATH+\"bisection.mp4\", \"ffmpeg\", 2, dpi=300, )\n",
    "plt.close()\n",
    "\n",
    "IPython.display.Video(OUTPUT_PATH+\"bisection.mp4\", width=500, )"
   ]
  },
  {
   "cell_type": "code",
   "execution_count": 4,
   "metadata": {
    "ExecuteTime": {
     "end_time": "2021-03-20T03:07:34.897555Z",
     "start_time": "2021-03-20T03:07:33.341740Z"
    }
   },
   "outputs": [
    {
     "name": "stdout",
     "output_type": "stream",
     "text": [
      "convergence value: 1.2361834049224854\n"
     ]
    },
    {
     "data": {
      "text/html": [
       "<video src=\"out/NUMERICAL_SOLUTION/bisection2.mp4\" controls  width=\"500\" >\n",
       "      Your browser does not support the <code>video</code> element.\n",
       "    </video>"
      ],
      "text/plain": [
       "<IPython.core.display.Video object>"
      ]
     },
     "execution_count": 4,
     "metadata": {},
     "output_type": "execute_result"
    }
   ],
   "source": [
    "fig, ax = plt.subplots()\n",
    "ax.set_xlim((0.5-0.05, 2+0.05))\n",
    "ax.set_ylim((-3, 3))\n",
    "domain = np.linspace(0.5, 2, 1000)\n",
    "codomain = np.linspace(-3, 3, 10)\n",
    "\n",
    "ax.xaxis.set_major_locator(matplotlib.ticker.MultipleLocator(base=0.1))\n",
    "ax.yaxis.set_major_locator(matplotlib.ticker.MultipleLocator(base=1))\n",
    "a = 0.5\n",
    "b = 2\n",
    "f = lambda x: x**3-2*np.sin(x)\n",
    "T = [(a, b, (a+b)/2)]\n",
    "for i in range(50):\n",
    "    a, b, isconv, fa, fb = bisection_once(f, a, b)\n",
    "    T.append((a, b, (a+b)/2))\n",
    "    if isconv:\n",
    "        print(\"convergence value:\", (a+b)/2)\n",
    "        break\n",
    "\n",
    "ax.plot(domain, domain**3-2*np.sin(domain), 'g')\n",
    "ax.plot(domain, np.zeros_like(domain), 'black')\n",
    "_la, = plt.plot([], [], 'b')\n",
    "_lb, = plt.plot([], [], 'b')\n",
    "_lc, = plt.plot([], [], 'r')\n",
    "def animate(frame):\n",
    "    _a, _b, _c = T[frame]\n",
    "    _la.set_data(np.full_like(codomain, _a), codomain)\n",
    "    _lb.set_data(np.full_like(codomain, _b), codomain)\n",
    "    _lc.set_data(np.full_like(codomain, _c), codomain)\n",
    "    ax.set_title(f\"mean: {_c}\")\n",
    "    return _la, _lb, _lc\n",
    "\n",
    "anim = animation.FuncAnimation(fig, animate, frames=len(T), interval=500)\n",
    "anim.save(OUTPUT_PATH+\"bisection2.mp4\", \"ffmpeg\", 2, dpi=300)\n",
    "plt.close()\n",
    "IPython.display.Video(OUTPUT_PATH+\"bisection2.mp4\", width=500, )"
   ]
  },
  {
   "cell_type": "markdown",
   "metadata": {
    "pycharm": {
     "name": "#%% md\n"
    }
   },
   "source": [
    "# 가위치법"
   ]
  },
  {
   "cell_type": "code",
   "execution_count": 5,
   "metadata": {
    "ExecuteTime": {
     "end_time": "2021-03-20T03:07:34.906557Z",
     "start_time": "2021-03-20T03:07:34.898554Z"
    },
    "pycharm": {
     "name": "#%%\n"
    }
   },
   "outputs": [],
   "source": [
    "def falsepos_once(f, a, b, e=1e-6):\n",
    "    fa, fb = f(a), f(b)\n",
    "    c = (a*fb - b * fa) / (fb - fa)\n",
    "    fc = f(c)\n",
    "    if abs(fc) < e:\n",
    "        return a, b, True, fa, fb\n",
    "    if np.sign(fa) != np.sign(fc):\n",
    "        b = c\n",
    "        fb = fc\n",
    "    else:\n",
    "        a = c\n",
    "        fa = fc\n",
    "    return a, b, False, fa, fb\n",
    "\n",
    "def falsepos(f, a, b, nmax=20, e=1e-6):\n",
    "    fa, fb = f(a), f(b)\n",
    "    if np.sign(fa) == np.sign(fb):\n",
    "        return\n",
    "\n",
    "    for n in range(nmax + 1):\n",
    "        c = (a*fb - b*fa) / (fb - fa)\n",
    "        fc = f(c)\n",
    "        if abs(fc) < e:\n",
    "            return a, b, True, fa, fb\n",
    "        if np.sign(fa) != np.sign(fc):\n",
    "            b = c\n",
    "            fb = fc\n",
    "        else:\n",
    "            a = c\n",
    "            fa = fc\n",
    "\n",
    "    return a, b, False, fa, fb\n"
   ]
  },
  {
   "cell_type": "code",
   "execution_count": 6,
   "metadata": {
    "ExecuteTime": {
     "end_time": "2021-03-20T03:07:35.917439Z",
     "start_time": "2021-03-20T03:07:34.908662Z"
    },
    "pycharm": {
     "name": "#%%\n"
    }
   },
   "outputs": [
    {
     "name": "stdout",
     "output_type": "stream",
     "text": [
      "convergence value: -2.0000002070557996\n"
     ]
    },
    {
     "data": {
      "text/html": [
       "<video src=\"out/NUMERICAL_SOLUTION/falsepos.mp4\" controls  width=\"500\" >\n",
       "      Your browser does not support the <code>video</code> element.\n",
       "    </video>"
      ],
      "text/plain": [
       "<IPython.core.display.Video object>"
      ]
     },
     "execution_count": 6,
     "metadata": {},
     "output_type": "execute_result"
    }
   ],
   "source": [
    "fig, ax = plt.subplots()\n",
    "\n",
    "domain = np.linspace(-3.5, -1.5, 1000)\n",
    "codomain = np.linspace(-3, 4, 10)\n",
    "\n",
    "a = -3.5\n",
    "b = -1.5\n",
    "f = lambda x: (x+4)*(x+2)*(x-6)\n",
    "T = [(a, b)]\n",
    "\n",
    "def cc(a, b, fa, fb):\n",
    "    if abs(fa) < abs(fb):\n",
    "        return a, fa\n",
    "    else:\n",
    "        return b, fb\n",
    "\n",
    "for i in range(50):\n",
    "    a, b, isconv, fa, fb = falsepos_once(f, a, b)\n",
    "    T.append((a, b))\n",
    "    if isconv:\n",
    "        print(\"convergence value:\", cc(a, b, fa, fb)[0])\n",
    "        break\n",
    "\n",
    "ax.plot(domain, f(domain))\n",
    "ax.plot(domain, np.zeros_like(domain), 'black')\n",
    "\n",
    "_la, = plt.plot([], [], 'b')\n",
    "_lb, = plt.plot([], [], 'b')\n",
    "def animate(frame):\n",
    "    _a, _b, = T[frame]\n",
    "    _la.set_data(np.full_like(codomain, _a), codomain)\n",
    "    _lb.set_data(np.full_like(codomain, _b), codomain)\n",
    "\n",
    "    ax.set_title(f\"convergence: {cc(_a, _b, f(_a), f(_b))[0]}\")\n",
    "    return _la, _lb\n",
    "\n",
    "anim = animation.FuncAnimation(fig, animate, frames=len(T), interval=500)\n",
    "anim.save(OUTPUT_PATH+\"falsepos.mp4\", \"ffmpeg\", 2, dpi=300)\n",
    "plt.close()\n",
    "IPython.display.Video(OUTPUT_PATH+\"falsepos.mp4\", width=500, )"
   ]
  },
  {
   "cell_type": "markdown",
   "metadata": {
    "pycharm": {
     "name": "#%% md\n"
    }
   },
   "source": [
    "# 개선된 가위치법\n",
    "\n",
    "반복적으로 동일한 끝점이 선택되는 상황\n",
    "이는 선형 수렴성을 저하시킬 수 있다.\n",
    "따라서 같은 끝점이 두 번 선택되면 다음 식을 사용\n",
    "$$c_k^{(m)} = \\begin{cases}\\frac{a_k f(b_k) - 2b_k f(a_k)}{f(b_k)-2f(a_k)} & (f(a_k)f(b_k) < 0) \\\\ \\frac{2a_k f(b_k) - b_kf(a_k)}{2f(b_k)-f(a_k)} & (f(a_k)f(b_k) > 0) \\end{cases}$$"
   ]
  },
  {
   "cell_type": "markdown",
   "metadata": {
    "pycharm": {
     "name": "#%% md\n"
    }
   },
   "source": [
    "# 뉴턴법 (또는 뉴턴-랩슨 반복법)\n",
    "\n",
    "## 뉴턴법의 이해\n",
    "함수 $f$가 미분 가능하다고 가정한다. 이는, 함수 $f$가 각 점에서 **유일한 접선**을 가진다는 의미이다.\n",
    "\n",
    "$x_0$근방에서 다음과 같은 선형함수가 주어진 함수 $f$에 가깝다.\n",
    "$$\\ell(x) = f'(x_0)(x-x_0)+f(x_0)$$\n",
    "\n",
    "$f$의 근에 대한 근사로 $\\ell$의 근을 택한다.\n",
    "\n",
    "$$x_1 = x_0 - \\frac{f(x_0)}{f'(x_0)}$$\n",
    "따라서 점 $x_0$에서 ㅡ시작하여 위 공식에서 새로운 점 $x_1$을 얻을 수 있다.\n",
    "\n",
    "이 과정을 반복함으로써 순서대로 점을 구할 수 있다.\n",
    "\n",
    "적절한 조건에서 이러한 점들의 수열은 $f$의 근으로 수렴한다.\n",
    "\n",
    "## 뉴턴법의 또다른 이해\n",
    "$$f(x_0 + h) = 0$$\n",
    "\n",
    "$f$가 충분히 다루기 쉬운 함수라면 $x_0$에서 테일러 급수가 존재할 것.\n",
    "\n",
    "$$f(x_0)+hf'(x_0)+\\frac{h^2}{2}f''(x_0)+\\dots = 0$$\n",
    "\n",
    "위식에서 첫 두 항만 제외하고 모두 무시하면 $h$의 근사를 얻을 수 있다.\n",
    "\n",
    "$$h=-\\frac{f(x_0)}{f'(x_0)}$$\n",
    "\n",
    "이로서 새로운 근사값을 구할 수 있다.\n",
    "\n",
    "$$x_1=x_0+h=x_0-\\frac{f(x_0)}{f'(x_0)}$$\n",
    "\n",
    "이를 수열의 형태로 다시쓰면 다음과 같은 재귀적 정의가 성립한다.\n",
    "\n",
    "$$x_{n+1}=x_n - \\frac{f(x_n)}{f'(x_n)}$$\n",
    "\n",
    "이제 다음이 성립하는지 생각해 볼 수 있다.\n",
    "\n",
    "$$\\lim_{n\\to \\infty}{x_n} = r$$\n",
    "\n",
    "이때 $r$은 찾고자 하는 $f$의 근이다.\n"
   ]
  },
  {
   "cell_type": "code",
   "execution_count": 7,
   "metadata": {
    "ExecuteTime": {
     "end_time": "2021-03-20T03:07:35.927440Z",
     "start_time": "2021-03-20T03:07:35.919438Z"
    }
   },
   "outputs": [],
   "source": [
    "def newton_once(f, f_, x, ε=1e-6, δ=1e-2):\n",
    "    fx = f(x)\n",
    "    fp = f_(x)\n",
    "    if abs(fp) < δ:\n",
    "        return False, None # small derivative\n",
    "    d = fx/fp\n",
    "    x = x - d\n",
    "    if abs(d) < ε:\n",
    "        return True, x # convergence\n",
    "    return False, x\n",
    "        \n",
    "\n",
    "def newton(f, f_, x, n, ε=1e-6, δ=1e-2):\n",
    "    \"\"\"\n",
    "    근을 찾는다.\n",
    "    f, f_는 각각 함수와 그 함수의 도함수이며 n은 반복횟수를 뜻한다.\n",
    "    x는 근을 찾기 위한 초깃값이다.\n",
    "    ε, δ는 수렴성 판단을 위한 충분히 작은 양수이다.\n",
    "    \"\"\"\n",
    "    fx = f(x)\n",
    "    for i in range(n):\n",
    "        fp = f_(x)\n",
    "        if abs(fp) < δ:\n",
    "            print(\"small derivative\")\n",
    "            return\n",
    "        d = fx/fp\n",
    "        x = x - d\n",
    "        fx = f(x)\n",
    "        print(i, round(x, 3), round(fx, 3))\n",
    "        if abs(d) < ε:\n",
    "            print(\"convergence\")\n",
    "            return\n",
    "     "
   ]
  },
  {
   "cell_type": "code",
   "execution_count": 8,
   "metadata": {
    "ExecuteTime": {
     "end_time": "2021-03-20T03:07:36.714561Z",
     "start_time": "2021-03-20T03:07:35.929647Z"
    }
   },
   "outputs": [
    {
     "name": "stdout",
     "output_type": "stream",
     "text": [
      "convergance value -2.000000000000002\n"
     ]
    },
    {
     "data": {
      "text/html": [
       "<video src=\"out/NUMERICAL_SOLUTION/newton.mp4\" controls  width=\"500\" >\n",
       "      Your browser does not support the <code>video</code> element.\n",
       "    </video>"
      ],
      "text/plain": [
       "<IPython.core.display.Video object>"
      ]
     },
     "execution_count": 8,
     "metadata": {},
     "output_type": "execute_result"
    }
   ],
   "source": [
    "fig, ax = plt.subplots()\n",
    "\n",
    "ax.set_xlim((-4, -1))\n",
    "ax.set_ylim((-5, 3))\n",
    "\n",
    "domain = np.linspace(-4, -1, 1000)\n",
    "codomain = np.linspace(-100, 100, 10)\n",
    "\n",
    "inix = -1.5\n",
    "\n",
    "f = lambda x: x**3+x**2-2*x\n",
    "f_ = lambda x: 3*x**2+2*x-2\n",
    "\n",
    "\n",
    "newton_trace = [inix]\n",
    "\n",
    "for i in range(50):\n",
    "    isconv, new_x = newton_once(f, f_, newton_trace[-1])\n",
    "    if isconv:\n",
    "        print(\"convergance value\", new_x)\n",
    "        newton_trace.append(new_x)\n",
    "        break\n",
    "    else:\n",
    "        if new_x is None:\n",
    "            print(\"small derivative\")\n",
    "            break\n",
    "        newton_trace.append(new_x)\n",
    "        \n",
    "\n",
    "ax.plot(domain, f(domain))\n",
    "ax.plot(domain, np.zeros_like(domain), 'black')\n",
    "\n",
    "_la, = plt.plot([], [], 'b')\n",
    "_lb, = plt.plot([], [], 'r')\n",
    "def animate(frame):\n",
    "    _a = newton_trace[frame]\n",
    "    _la.set_data(np.full_like(codomain, _a), codomain)\n",
    "    _lb.set_data(domain, f_(_a)*(domain-_a)+f(_a))\n",
    "    ax.set_title(f\"convergence: {round(newton_trace[frame], 4)}\")\n",
    "    return _la\n",
    "\n",
    "anim = animation.FuncAnimation(fig, animate, frames=len(newton_trace), interval=500)\n",
    "anim.save(OUTPUT_PATH+\"newton.mp4\", \"ffmpeg\", 2, dpi=300)\n",
    "plt.close()\n",
    "IPython.display.Video(OUTPUT_PATH+\"newton.mp4\", width=500, )"
   ]
  },
  {
   "cell_type": "markdown",
   "metadata": {
    "pycharm": {
     "name": "#%% md\n"
    }
   },
   "source": [
    "# 할선법\n",
    "\n",
    "$$x_{n+1} = x_n - \\frac{f(x_n)}{f'(x_n)}$$\n",
    "\n",
    "$f'(x_n)$을 쉽게 계산할 수 있는 근사값으로 바꾼다.\n",
    "도함수의 정의가 다음과 같으므로\n",
    "$$f'(x) = \\lim_{h\\to 0}{\\frac{f(x+h)-f(x)}{h}}$$\n",
    "\n",
    "아주 작은 $h$에 대해 다음이 성립한다.\n",
    "\n",
    "$$f'(x) \\approx \\frac{f(x+h)-f(x)}{h}$$\n",
    "\n",
    "특히 $x = x_n$이고 $h=x_{n-1} - x_n$인 경우, 다음이 성립한다.\n",
    "\n",
    "$$f'(x_n) \\approx \\frac{f(x_{n-1}-f(x_n)}{x_{n-1} - x_n}$$\n",
    "\n",
    "이 근사를 처음 식에 대입하면 그것이 할선법이다.\n",
    "\n",
    "$$x_{n+1} = x_n - \\left(\\frac{x_n-x_{n-1}}{f(x_n)-f(x_{n-1}}f(x_n) \\right)$$\n",
    "\n",
    "\n",
    "\n"
   ]
  }
 ],
 "metadata": {
  "hide_input": false,
  "kernelspec": {
   "display_name": "Python 3",
   "language": "python",
   "name": "python3"
  },
  "language_info": {
   "codemirror_mode": {
    "name": "ipython",
    "version": 3
   },
   "file_extension": ".py",
   "mimetype": "text/x-python",
   "name": "python",
   "nbconvert_exporter": "python",
   "pygments_lexer": "ipython3",
   "version": "3.7.6"
  },
  "toc": {
   "base_numbering": 1,
   "nav_menu": {
    "height": "152.991px",
    "width": "187.872px"
   },
   "number_sections": true,
   "sideBar": true,
   "skip_h1_title": false,
   "title_cell": "Table of Contents",
   "title_sidebar": "Contents",
   "toc_cell": false,
   "toc_position": {
    "height": "calc(100% - 180px)",
    "left": "10px",
    "top": "150px",
    "width": "165px"
   },
   "toc_section_display": true,
   "toc_window_display": true
  },
  "varInspector": {
   "cols": {
    "lenName": 16,
    "lenType": 16,
    "lenVar": 40
   },
   "kernels_config": {
    "python": {
     "delete_cmd_postfix": "",
     "delete_cmd_prefix": "del ",
     "library": "var_list.py",
     "varRefreshCmd": "print(var_dic_list())"
    },
    "r": {
     "delete_cmd_postfix": ") ",
     "delete_cmd_prefix": "rm(",
     "library": "var_list.r",
     "varRefreshCmd": "cat(var_dic_list()) "
    }
   },
   "position": {
    "height": "143.795px",
    "left": "1405.97px",
    "right": "20px",
    "top": "132.985px",
    "width": "349.97px"
   },
   "types_to_exclude": [
    "module",
    "function",
    "builtin_function_or_method",
    "instance",
    "_Feature"
   ],
   "window_display": true
  }
 },
 "nbformat": 4,
 "nbformat_minor": 4
}