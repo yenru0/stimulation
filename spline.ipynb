{
 "cells": [
  {
   "cell_type": "code",
   "execution_count": 11,
   "metadata": {
    "ExecuteTime": {
     "end_time": "2021-03-01T15:16:48.586473Z",
     "start_time": "2021-03-01T15:16:48.582476Z"
    }
   },
   "outputs": [],
   "source": [
    "import numpy as np\n",
    "import matplotlib.pyplot as plt\n",
    "import matplotlib.animation as animation\n",
    "import matplotlib.ticker as ticker\n",
    "import IPython.display\n",
    "\n",
    "plt.rcParams['font.family'] = [\"D2Coding\"]"
   ]
  },
  {
   "cell_type": "markdown",
   "metadata": {},
   "source": [
    "# 1차 스플라인\n",
    "스플라인 함수는 어떤 매끄러운 조건을 가진 다항식의 조각이다. 이것의 간단한 예는 다변형 함수(또는 1차 스플라인)이다.\n",
    "\n",
    "1차 스플라인 함수를 수학적 용어로 정의하면 다음과 같다.\n",
    "$$\n",
    "S(x) = \\begin{cases} S_0(x) & x\\in[t_0,t_1]\\\\S_1(x) & x\\in[t_1,t_2] \\\\ \\vdots & \\vdots \\\\ S_n-1(x) & x\\in[t_{n-1},t_n] \\end{cases}\n",
    "$$\n",
    "\n",
    "이때, $S_i(x)=a_{i}x+b_i$\n",
    "\n",
    "이 복잡하게 나타나는 이유는 $S(x)$의 각 조각이 선형 다항식이기 때문이다. 이러한 $S(x)$를 **구간별 선형 함수**라고 한다. 만약 $S$가 연속이면 이 함수를 **1차 스플라인**이라고 한다.\n",
    "\n",
    "이 함수를 기울기를 상용한 식으로 변환할 수 있다.\n",
    "\n",
    "$$S_i(x)=y_i+m_i(x-t_i)$$\n",
    "\n",
    "이때, 기울기 $m_i$은 이것이다. $$m_i=\\frac{y_{i+1}-y_i}{t_{i+1}-t_i}$$"
   ]
  },
  {
   "cell_type": "code",
   "execution_count": 71,
   "metadata": {
    "ExecuteTime": {
     "end_time": "2021-03-01T15:43:54.486807Z",
     "start_time": "2021-03-01T15:43:54.195768Z"
    }
   },
   "outputs": [
    {
     "data": {
      "image/png": "[encoded data removed]",
      "text/plain": [
       "<Figure size 576x432 with 2 Axes>"
      ]
     },
     "metadata": {
      "needs_background": "light"
     },
     "output_type": "display_data"
    }
   ],
   "source": [
    "t = [0, 1, 1.5, 2, 3.5, 4]\n",
    "\n",
    "ab1 = [(3, 4), (-8, 10), (-2, 4), (6, -15), (-4, 10)]\n",
    "ab2 = [(3, 4), (-2, 9), (2, 3), (-1, 9), (-4, 19.5)]\n",
    "\n",
    "fig, ax = plt.subplots(2, 1,figsize=(8, 6))\n",
    "\n",
    "for ti in range(1, len(t)):\n",
    "    d = np.linspace(t[ti-1], t[ti])\n",
    "    a, b = ab1[ti-1]\n",
    "    ax[0].plot(d[0])\n",
    "    ax[0].plot(d, a*d+b, \"b\")\n",
    "ax[0].set_title(\"불연속 구간별 선형함수\")\n",
    "\n",
    "ax[1].set_ylim((0, 10))\n",
    "for ti in range(1, len(t)):\n",
    "    d = np.linspace(t[ti-1], t[ti])\n",
    "    a, b = ab2[ti-1]\n",
    "    ax[1].text(d[0], a*d[0]+b+0.5, f\"$t_{ti-1}$\", fontsize=14)\n",
    "    ax[1].plot([d[0]], [a*d[0]+b], marker=\"o\", color='black')\n",
    "    ax[1].plot(d, a*d+b, \"b\")\n",
    "ax[1].text(t[-1], a*t[-1]+b+0.5, f\"$t_{len(t)-1}$\", fontsize=14)\n",
    "ax[1].plot([t[-1]], [a*t[-1]+b], marker=\"o\", color='black')\n",
    "ax[1].set_title(\"연속 구간별 선형함수(1차 스플라인)\")\n",
    "\n",
    "\n",
    "fig.tight_layout(pad=1.5)\n",
    "\n",
    "plt.show()"
   ]
  },
  {
   "cell_type": "markdown",
   "metadata": {},
   "source": [
    "# 2차 스플라인\n",
    "\n",
    "구간별 이차함수이다.\n",
    "## 서보틴 2차 스플라인\n"
   ]
  },
  {
   "cell_type": "code",
   "execution_count": null,
   "metadata": {},
   "outputs": [],
   "source": []
  },
  {
   "cell_type": "code",
   "execution_count": null,
   "metadata": {},
   "outputs": [],
   "source": []
  }
 ],
 "metadata": {
  "hide_input": false,
  "kernelspec": {
   "display_name": "Python 3",
   "language": "python",
   "name": "python3"
  },
  "language_info": {
   "codemirror_mode": {
    "name": "ipython",
    "version": 3
   },
   "file_extension": ".py",
   "mimetype": "text/x-python",
   "name": "python",
   "nbconvert_exporter": "python",
   "pygments_lexer": "ipython3",
   "version": "3.7.6"
  },
  "toc": {
   "base_numbering": 1,
   "nav_menu": {},
   "number_sections": true,
   "sideBar": true,
   "skip_h1_title": false,
   "title_cell": "Table of Contents",
   "title_sidebar": "Contents",
   "toc_cell": false,
   "toc_position": {},
   "toc_section_display": true,
   "toc_window_display": false
  },
  "varInspector": {
   "cols": {
    "lenName": 16,
    "lenType": 16,
    "lenVar": 40
   },
   "kernels_config": {
    "python": {
     "delete_cmd_postfix": "",
     "delete_cmd_prefix": "del ",
     "library": "var_list.py",
     "varRefreshCmd": "print(var_dic_list())"
    },
    "r": {
     "delete_cmd_postfix": ") ",
     "delete_cmd_prefix": "rm(",
     "library": "var_list.r",
     "varRefreshCmd": "cat(var_dic_list()) "
    }
   },
   "types_to_exclude": [
    "module",
    "function",
    "builtin_function_or_method",
    "instance",
    "_Feature"
   ],
   "window_display": false
  }
 },
 "nbformat": 4,
 "nbformat_minor": 4
}
