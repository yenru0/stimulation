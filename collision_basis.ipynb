{
 "cells": [
  {
   "cell_type": "code",
   "execution_count": null,
   "metadata": {
    "collapsed": true
   },
   "outputs": [],
   "source": [
    "import os\n",
    "\n",
    "import numpy as np\n",
    "import matplotlib.pyplot as plt\n",
    "import matplotlib.animation as animation\n",
    "import matplotlib.ticker as ticker\n",
    "import IPython.display\n",
    "import pygame\n",
    "\n",
    "NOTEBOOK_ID = \"COLLISION_BASIS\"\n",
    "OUTPUT_PATH = f\"out/{NOTEBOOK_ID}/\"\n",
    "\n",
    "if not os.path.isdir(OUTPUT_PATH):\n",
    "    os.mkdir(OUTPUT_PATH)\n",
    "\n",
    "plt.rcParams['font.family'] = [\"D2Coding\"]\n",
    "pygame.init()\n"
   ]
  },
  {
   "cell_type": "markdown",
   "metadata": {
    "pycharm": {
     "name": "#%% md\n"
    }
   },
   "source": [
    "# 점과 물체의 충돌 판별\n",
    "\n",
    "어떤 점 $P(x,y)$가 물체와 충돌을 한다고 하면 최소한 그 물체 내부 혹은 그 경계에 있다는 것이다.\n",
    "\n",
    "## 점과 원의 충돌 판별\n",
    "\n",
    "점 $P$가 임의의 중심을 $C(C_x, C_y)$으로 하고 반지름을 $r$로 하는 원 $O$와 충돌한다고 하면 다음이 성립해야 한다.\n",
    "\n",
    "> $$\\overline{PC} \\leq r$$\n",
    "\n",
    "이는 점과 점 사이의 거리 공식에 따라 다음과 같이 쓸 수 있다.\n",
    "\n",
    "> $$(C_x-x)^2+(C_y-y)^2 \\leq r^2$$\n",
    "\n",
    "## 점과 변이 축과 평행한 사각형의 충돌 판별\n",
    "\n",
    "점 $P$가 각 꼭짓점이 $(x_1, y_1),\\,(x_2, y_1),\\,(x_1,y_2),\\,(x_2,y_2)\\quad(x_1 < x_2, \\,y_1 < y_2)$인 사각형과 충돌한다고 하면 다음이 성립해야 한다.\n",
    "\n",
    "> $$x_1\\leq x\\leq x_2\\quad \\text{and}\\quad y_1 \\leq y \\leq y_2$$\n",
    "\n",
    "## 점과 삼각형의 충돌\n",
    "\n",
    "점 $P$가 각 꼭짓점이 $A(x_1, y_1),\\,B(x_2, y_2),\\,C(x_3,y_3)$인 삼각형 $\\triangle{ABC}$ 내부에 존재한다고 하면 다음이 성립한다.\n",
    "\n",
    "> $$V_0 = \\vec{AP}\\times\\vec{AB},\\,V_1=\\vec{BP}\\times\\vec{BC},V_2=\\vec{CP}\\times\\vec{CA}$$\n",
    "> $$V_0, V_1, V_2 \\leq 0\\quad \\text{or} \\quad V_0, V_1, V_2 \\geq 0$$\n",
    "\n",
    "다만 외적을 이용하여 상대적으로 느리다.\n",
    "\n",
    "이를 통해 모든 다각형은 삼각형으로 나눌 수 있으므로 일반화하여 다각형 내부에 점이 있는지 판별하는 조건을 만들 수 있다."
   ]
  },
  {
   "cell_type": "code",
   "execution_count": null,
   "metadata": {},
   "outputs": [],
   "source": []
  }
 ],
 "metadata": {
  "hide_input": false,
  "kernelspec": {
   "display_name": "Python 3",
   "language": "python",
   "name": "python3"
  },
  "language_info": {
   "codemirror_mode": {
    "name": "ipython",
    "version": 3
   },
   "file_extension": ".py",
   "mimetype": "text/x-python",
   "name": "python",
   "nbconvert_exporter": "python",
   "pygments_lexer": "ipython3",
   "version": "3.7.6"
  },
  "toc": {
   "base_numbering": 1,
   "nav_menu": {},
   "number_sections": true,
   "sideBar": true,
   "skip_h1_title": false,
   "title_cell": "Table of Contents",
   "title_sidebar": "Contents",
   "toc_cell": false,
   "toc_position": {},
   "toc_section_display": true,
   "toc_window_display": false
  },
  "varInspector": {
   "cols": {
    "lenName": 16,
    "lenType": 16,
    "lenVar": 40
   },
   "kernels_config": {
    "python": {
     "delete_cmd_postfix": "",
     "delete_cmd_prefix": "del ",
     "library": "var_list.py",
     "varRefreshCmd": "print(var_dic_list())"
    },
    "r": {
     "delete_cmd_postfix": ") ",
     "delete_cmd_prefix": "rm(",
     "library": "var_list.r",
     "varRefreshCmd": "cat(var_dic_list()) "
    }
   },
   "types_to_exclude": [
    "module",
    "function",
    "builtin_function_or_method",
    "instance",
    "_Feature"
   ],
   "window_display": false
  }
 },
 "nbformat": 4,
 "nbformat_minor": 1
}