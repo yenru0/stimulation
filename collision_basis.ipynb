{
 "cells": [
  {
   "cell_type": "code",
   "execution_count": 4,
   "metadata": {
    "collapsed": true
   },
   "outputs": [
    {
     "name": "stdout",
     "output_type": "stream",
     "text": [
      "pygame 1.9.6\n",
      "Hello from the pygame community. https://www.pygame.org/contribute.html\n"
     ]
    },
    {
     "data": {
      "text/plain": [
       "(6, 0)"
      ]
     },
     "execution_count": 4,
     "metadata": {},
     "output_type": "execute_result"
    }
   ],
   "source": [
    "import os\n",
    "\n",
    "import numpy as np\n",
    "import matplotlib.pyplot as plt\n",
    "import matplotlib.animation as animation\n",
    "import matplotlib.ticker as ticker\n",
    "import matplotlib.patches as patches\n",
    "import IPython.display\n",
    "import pygame\n",
    "\n",
    "NOTEBOOK_ID = \"COLLISION_BASIS\"\n",
    "OUTPUT_PATH = f\"out/{NOTEBOOK_ID}/\"\n",
    "\n",
    "if not os.path.isdir(OUTPUT_PATH):\n",
    "    os.mkdir(OUTPUT_PATH)\n",
    "\n",
    "plt.rcParams['font.family'] = [\"D2Coding\"]\n",
    "pygame.init()\n"
   ]
  },
  {
   "cell_type": "markdown",
   "metadata": {
    "pycharm": {
     "name": "#%% md\n"
    }
   },
   "source": [
    "# 점과 물체의 충돌 판별\n",
    "\n",
    "어떤 점 $P(x,y)$가 물체와 충돌을 한다고 하면 최소한 그 물체 내부 혹은 그 경계에 있다는 것이다.\n",
    "\n",
    "## 점과 원의 충돌 판별\n",
    "\n",
    "점 $P$가 임의의 중심을 $C(C_x, C_y)$으로 하고 반지름을 $r$로 하는 원 $O$와 충돌한다고 하면 다음이 성립해야 한다.\n",
    "\n",
    "> $$\\overline{PC} \\leq r$$\n",
    "\n",
    "이는 점과 점 사이의 거리 공식에 따라 다음과 같이 쓸 수 있다.\n",
    "\n",
    "> $$(C_x-x)^2+(C_y-y)^2 \\leq r^2$$\n",
    "\n",
    "## 점과 변이 축과 평행한 사각형의 충돌 판별\n",
    "\n",
    "점 $P$가 각 꼭짓점이 $(x_1, y_1),\\,(x_2, y_1),\\,(x_1,y_2),\\,(x_2,y_2)\\quad(x_1 < x_2, \\,y_1 < y_2)$인 사각형과 충돌한다고 하면 다음이 성립해야 한다.\n",
    "\n",
    "> $$x_1\\leq x\\leq x_2\\quad \\text{and}\\quad y_1 \\leq y \\leq y_2$$\n",
    "\n",
    "## 점과 삼각형의 충돌\n",
    "\n",
    "점 $P$가 각 꼭짓점이 $A(x_1, y_1),\\,B(x_2, y_2),\\,C(x_3,y_3)$인 삼각형 $\\triangle{ABC}$ 내부에 존재한다고 하면 다음이 성립한다.\n",
    "\n",
    "> $$V_0 = \\vec{AP}\\times\\vec{AB},\\,V_1=\\vec{BP}\\times\\vec{BC},V_2=\\vec{CP}\\times\\vec{CA}$$\n",
    "> $$V_0, V_1, V_2 \\leq 0\\quad \\text{or} \\quad V_0, V_1, V_2 \\geq 0$$\n",
    "\n",
    "다만 외적을 이용하여 다른 방법에 비해 상대적으로 느리다."
   ]
  },
  {
   "cell_type": "code",
   "execution_count": 5,
   "metadata": {},
   "outputs": [],
   "source": [
    "def collide_point_with_circle(point, center, radius):\n",
    "    return (center[0] - point[0]) ** 2 + (center[1] - point[1]) ** 2 <= radius ** 2\n",
    "\n",
    "\n",
    "def collide_point_with_rect(point, rect): # rect(x1, x2, y1, y2)\n",
    "    return rect[0] <= point[0] <= rect[1] and rect[2] <= point[1] <= rect[3]\n",
    "\n",
    "\n",
    "def collide_point_with_triangle(point, A, B, C):\n",
    "    V0, V1, V2 = np.cross(point - A, B - A), np.cross(point - B, C - B), np.cross(point - C, A - C)\n",
    "    return (V0 >= 0 and V1 >= 0 and V2 >= 0) or (V0 <= 0 and V1 <= 0 and V2 <= 0)"
   ]
  },
  {
   "cell_type": "code",
   "execution_count": 39,
   "metadata": {
    "ExecuteTime": {
     "end_time": "2021-04-04T16:26:11.543406Z",
     "start_time": "2021-04-04T16:26:11.289701Z"
    },
    "pycharm": {
     "name": "#%%\n"
    }
   },
   "outputs": [
    {
     "data": {
      "image/png": "[encoded data removed]",
      "text/plain": [
       "<Figure size 1368x432 with 3 Axes>"
      ]
     },
     "metadata": {
      "needs_background": "light"
     },
     "output_type": "display_data"
    }
   ],
   "source": [
    "Ps = [np.array((0, 0)), np.array((2, 2)), np.array((-2, 1)), np.array((3, -1)), np.array((0, -2))]\n",
    "\n",
    "circle = (np.array((0, 0)), np.sqrt(4))\n",
    "rect = np.array((-2, 3, -1, 1))\n",
    "triangle = (np.array((-2, 0)), np.array((0, -2)), np.array((3, 4)))\n",
    "\n",
    "fig, ax = plt.subplots(1, 3,figsize=(19, 6))\n",
    "\n",
    "for i in range(3):\n",
    "    ax[i].set_xlim((-4, 4))\n",
    "    ax[i].set_ylim((-4, 4))\n",
    "\n",
    "ax[0].add_patch(patches.Circle(*circle, linewidth=3, fill=False, color='blue'))\n",
    "ax[1].add_patch(patches.Rectangle((rect[0], rect[2]), rect[1] - rect[0], rect[3] - rect[2], fill=False, linewidth=3, color='blue'))\n",
    "ax[2].add_patch(patches.Polygon(triangle, fill=False, linewidth=3, color='blue'))\n",
    "\n",
    "for p in Ps:\n",
    "    if collide_point_with_circle(p, *circle):\n",
    "        ax[0].plot([p[0]], [p[1]], 'o', color='red')\n",
    "    else:\n",
    "        ax[0].plot([p[0]], [p[1]], 'o', color='green')\n",
    "\n",
    "for p in Ps:\n",
    "    if collide_point_with_rect(p, rect):\n",
    "        ax[1].plot([p[0]], [p[1]], 'o', color='red')\n",
    "    else:\n",
    "        ax[1].plot([p[0]], [p[1]], 'o', color='green')\n",
    "\n",
    "for p in Ps:\n",
    "    if collide_point_with_triangle(p, *triangle):\n",
    "        ax[2].plot([p[0]], [p[1]], 'o', color='red')\n",
    "    else:\n",
    "        ax[2].plot([p[0]], [p[1]], 'o', color='green')\n",
    "\n",
    "plt.show()"
   ]
  },
  {
   "cell_type": "markdown",
   "metadata": {
    "pycharm": {
     "name": "#%%\n"
    }
   },
   "source": [
    "## 점과 볼록 다각형의 충돌\n",
    "\n",
    "위에 있는 점과 삼각형의 충돌을 이용할 것이다.\n",
    "\n",
    "볼록 다각형은 대부분 삼각형으로 분해할 수 있으니 (오목 다각형에 대해서는 잘 모르겠다) \n",
    "\n",
    "$n$각형 $A$의 점들을 점 $A_1$을 기준으로 시계 반대 방향으로 $A_1, A_2, A_3, \\cdots, A_n$이라고 하자.\n",
    "\n",
    "이때 다각형 $A$는 $\\triangle{A_1A_2A_3}, \\triangle{A_1A_3A_4}, \\cdots, \\triangle{A_1A_{n-1}A_n}$로 겹치는 구간 없이 분할될 수 있다. 이때 점 $P$가 이 모든 삼각형 안에 하나라도 존재한다면 $P$는 다각형 안에 존재하게 된다."
   ]
  },
  {
   "cell_type": "code",
   "execution_count": 41,
   "metadata": {
    "ExecuteTime": {
     "end_time": "2021-04-04T16:47:26.617177Z",
     "start_time": "2021-04-04T16:47:26.515965Z"
    }
   },
   "outputs": [
    {
     "ename": "TypeError",
     "evalue": "'AxesSubplot' object is not subscriptable",
     "output_type": "error",
     "traceback": [
      "\u001B[1;31m---------------------------------------------------------------------------\u001B[0m",
      "\u001B[1;31mTypeError\u001B[0m                                 Traceback (most recent call last)",
      "\u001B[1;32m<ipython-input-41-c0f2c1d0bcf1>\u001B[0m in \u001B[0;36m<module>\u001B[1;34m\u001B[0m\n\u001B[0;32m     15\u001B[0m \u001B[1;32mfor\u001B[0m \u001B[0mp\u001B[0m \u001B[1;32min\u001B[0m \u001B[0mPs\u001B[0m\u001B[1;33m:\u001B[0m\u001B[1;33m\u001B[0m\u001B[1;33m\u001B[0m\u001B[0m\n\u001B[0;32m     16\u001B[0m     \u001B[1;32mif\u001B[0m \u001B[0mcollide_point_with_polygon\u001B[0m\u001B[1;33m(\u001B[0m\u001B[0mp\u001B[0m\u001B[1;33m,\u001B[0m \u001B[0mA\u001B[0m\u001B[1;33m)\u001B[0m\u001B[1;33m:\u001B[0m\u001B[1;33m\u001B[0m\u001B[1;33m\u001B[0m\u001B[0m\n\u001B[1;32m---> 17\u001B[1;33m         \u001B[0max\u001B[0m\u001B[1;33m[\u001B[0m\u001B[1;36m0\u001B[0m\u001B[1;33m]\u001B[0m\u001B[1;33m.\u001B[0m\u001B[0mplot\u001B[0m\u001B[1;33m(\u001B[0m\u001B[1;33m[\u001B[0m\u001B[0mp\u001B[0m\u001B[1;33m[\u001B[0m\u001B[1;36m0\u001B[0m\u001B[1;33m]\u001B[0m\u001B[1;33m]\u001B[0m\u001B[1;33m,\u001B[0m \u001B[1;33m[\u001B[0m\u001B[0mp\u001B[0m\u001B[1;33m[\u001B[0m\u001B[1;36m1\u001B[0m\u001B[1;33m]\u001B[0m\u001B[1;33m]\u001B[0m\u001B[1;33m,\u001B[0m \u001B[1;34m'o'\u001B[0m\u001B[1;33m,\u001B[0m \u001B[0mcolor\u001B[0m\u001B[1;33m=\u001B[0m\u001B[1;34m'red'\u001B[0m\u001B[1;33m)\u001B[0m\u001B[1;33m\u001B[0m\u001B[1;33m\u001B[0m\u001B[0m\n\u001B[0m\u001B[0;32m     18\u001B[0m     \u001B[1;32melse\u001B[0m\u001B[1;33m:\u001B[0m\u001B[1;33m\u001B[0m\u001B[1;33m\u001B[0m\u001B[0m\n\u001B[0;32m     19\u001B[0m         \u001B[0max\u001B[0m\u001B[1;33m[\u001B[0m\u001B[1;36m0\u001B[0m\u001B[1;33m]\u001B[0m\u001B[1;33m.\u001B[0m\u001B[0mplot\u001B[0m\u001B[1;33m(\u001B[0m\u001B[1;33m[\u001B[0m\u001B[0mp\u001B[0m\u001B[1;33m[\u001B[0m\u001B[1;36m0\u001B[0m\u001B[1;33m]\u001B[0m\u001B[1;33m]\u001B[0m\u001B[1;33m,\u001B[0m \u001B[1;33m[\u001B[0m\u001B[0mp\u001B[0m\u001B[1;33m[\u001B[0m\u001B[1;36m1\u001B[0m\u001B[1;33m]\u001B[0m\u001B[1;33m]\u001B[0m\u001B[1;33m,\u001B[0m \u001B[1;34m'o'\u001B[0m\u001B[1;33m,\u001B[0m \u001B[0mcolor\u001B[0m\u001B[1;33m=\u001B[0m\u001B[1;34m'green'\u001B[0m\u001B[1;33m)\u001B[0m\u001B[1;33m\u001B[0m\u001B[1;33m\u001B[0m\u001B[0m\n",
      "\u001B[1;31mTypeError\u001B[0m: 'AxesSubplot' object is not subscriptable"
     ]
    },
    {
     "data": {
      "image/png": "[encoded data removed]",
      "text/plain": [
       "<Figure size 432x432 with 1 Axes>"
      ]
     },
     "metadata": {
      "needs_background": "light"
     },
     "output_type": "display_data"
    }
   ],
   "source": [
    "def collide_point_with_polygon(point, poly):\n",
    "    pivot = poly[0]\n",
    "    return any([collide_point_with_triangle(point, pivot, a, b) for a, b in zip(poly[1:-1], poly[2:])])\n",
    "\n",
    "Ps = [np.array((0, 0)), np.array((2, 2)), np.array((-2, 1)), np.array((3, -1)), np.array((0, -2))]\n",
    "A = [np.array((0, 3)), np.array((-1, 2)), np.array((-2, 0)), np.array((-1, -1)), np.array((1, -1)), np.array((1, 1))] # Polygon\n",
    "\n",
    "fig, ax = plt.subplots(figsize=(6, 6))\n",
    "\n",
    "ax.set_xlim((-4, 4))\n",
    "ax.set_ylim((-4, 4))\n",
    "\n",
    "ax.add_patch(patches.Polygon(A, fill=False, linewidth=3, color='blue'))\n",
    "\n",
    "for p in Ps:\n",
    "    if collide_point_with_polygon(p, A):\n",
    "        ax[0].plot([p[0]], [p[1]], 'o', color='red')\n",
    "    else:\n",
    "        ax[0].plot([p[0]], [p[1]], 'o', color='green')\n",
    "\n",
    "plt.show()"
   ]
  },
  {
   "cell_type": "code",
   "execution_count": null,
   "metadata": {},
   "outputs": [],
   "source": []
  }
 ],
 "metadata": {
  "hide_input": false,
  "kernelspec": {
   "display_name": "Python 3",
   "language": "python",
   "name": "python3"
  },
  "language_info": {
   "codemirror_mode": {
    "name": "ipython",
    "version": 3
   },
   "file_extension": ".py",
   "mimetype": "text/x-python",
   "name": "python",
   "nbconvert_exporter": "python",
   "pygments_lexer": "ipython3",
   "version": "3.7.6"
  },
  "toc": {
   "base_numbering": 1,
   "nav_menu": {},
   "number_sections": true,
   "sideBar": true,
   "skip_h1_title": false,
   "title_cell": "Table of Contents",
   "title_sidebar": "Contents",
   "toc_cell": false,
   "toc_position": {},
   "toc_section_display": true,
   "toc_window_display": false
  },
  "varInspector": {
   "cols": {
    "lenName": 16,
    "lenType": 16,
    "lenVar": 40
   },
   "kernels_config": {
    "python": {
     "delete_cmd_postfix": "",
     "delete_cmd_prefix": "del ",
     "library": "var_list.py",
     "varRefreshCmd": "print(var_dic_list())"
    },
    "r": {
     "delete_cmd_postfix": ") ",
     "delete_cmd_prefix": "rm(",
     "library": "var_list.r",
     "varRefreshCmd": "cat(var_dic_list()) "
    }
   },
   "types_to_exclude": [
    "module",
    "function",
    "builtin_function_or_method",
    "instance",
    "_Feature"
   ],
   "window_display": false
  }
 },
 "nbformat": 4,
 "nbformat_minor": 1
}