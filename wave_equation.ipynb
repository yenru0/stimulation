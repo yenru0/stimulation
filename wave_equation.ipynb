{
 "cells": [
  {
   "cell_type": "code",
   "execution_count": 1,
   "metadata": {
    "ExecuteTime": {
     "end_time": "2021-07-27T13:43:39.526220Z",
     "start_time": "2021-07-27T13:43:39.164003Z"
    }
   },
   "outputs": [],
   "source": [
    "import os\n",
    "\n",
    "import numpy as np\n",
    "import matplotlib.pyplot as plt\n",
    "import matplotlib.animation as animation\n",
    "import matplotlib.ticker as ticker\n",
    "import IPython.display\n",
    "\n",
    "plt.rcParams['font.family'] = [\"D2Coding\"]\n",
    "\n",
    "NOTEBOOK_ID = \"WAVE-EQUATION\"\n",
    "OUTPUT_PATH = f\"out/{NOTEBOOK_ID}/\"\n",
    "\n",
    "if not os.path.isdir(OUTPUT_PATH):\n",
    "    os.mkdir(OUTPUT_PATH)\n"
   ]
  },
  {
   "cell_type": "markdown",
   "metadata": {
    "pycharm": {
     "name": "#%% md\n"
    }
   },
   "source": [
    "# Wave Equation\n",
    "\n",
    "위치 $\\mathbf{x}$, 시각 $t$에서의 진폭을 나타내는 $u(\\mathbf{x}, t)$에 대한 선형 쌍곡 편미분 방정식으로 다음과 같다.\n",
    "\n",
    "$$\\frac{\\partial^2 u}{\\partial t^2} = c^2 \\nabla^2 u$$\n",
    "\n",
    "이때, $c$는 파동의 속도.\n",
    "\n"
   ]
  },
  {
   "cell_type": "markdown",
   "metadata": {
    "pycharm": {
     "name": "#%% md\n"
    }
   },
   "source": [
    "## Wave Equation 1D\n",
    "\n",
    "$$\\frac{\\partial^2 u}{\\partial t^2} = c^2 \\frac{\\partial^2 u}{\\partial x^2}$$"
   ]
  },
  {
   "cell_type": "code",
   "execution_count": 2,
   "metadata": {
    "ExecuteTime": {
     "end_time": "2021-07-27T13:44:05.557653Z",
     "start_time": "2021-07-27T13:43:39.527223Z"
    },
    "pycharm": {
     "name": "#%%\n"
    }
   },
   "outputs": [],
   "source": [
    "t, dt = np.linspace(0, 10, 100000, retstep=True)\n",
    "x, dx = np.linspace(-4, 4, 100, retstep=True)\n",
    "nt = len(t)\n",
    "nx = len(x)\n",
    "\n",
    "w = np.zeros((nt, nx))\n",
    "w[0] = w[1] = np.zeros_like(x)\n",
    "\n",
    "c = 0.7\n",
    "\n",
    "for _t in range(2, nt):\n",
    "    for _x in range(1, nx - 1):\n",
    "        w[_t, _x] = 2 * w[_t - 1, _x] - w[_t - 2, _x] + c ** 2 * (dt / dx) ** 2 * (\n",
    "                w[_t - 1, _x + 1] - 2 * w[_t - 1, _x] + w[_t - 1, _x - 1])\n",
    "    # boundary: reflecting\n",
    "    w[_t, 0] = 0  #w[_t, 1]\n",
    "    w[_t, -1] = 0  #w[_t, -2]\n",
    "\n",
    "    # additional\n",
    "    w[_t, 25] = 0.125 * np.sin(t[_t] * np.pi)\n",
    "    w[_t, 90] = 0.125 * np.sin(t[_t] * np.pi)"
   ]
  },
  {
   "cell_type": "code",
   "execution_count": 3,
   "metadata": {
    "ExecuteTime": {
     "end_time": "2021-07-27T13:44:09.977225Z",
     "start_time": "2021-07-27T13:44:05.559135Z"
    },
    "pycharm": {
     "name": "#%%\n"
    },
    "scrolled": false
   },
   "outputs": [
    {
     "data": {
      "text/html": [
       "<video src=\"out/WAVE-EQUATION/wave1d.mp4\" controls  width=\"640\"  height=\"640\">\n",
       "      Your browser does not support the <code>video</code> element.\n",
       "    </video>"
      ],
      "text/plain": [
       "<IPython.core.display.Video object>"
      ]
     },
     "execution_count": 3,
     "metadata": {},
     "output_type": "execute_result"
    }
   ],
   "source": [
    "fig, ax = plt.subplots(figsize=(8, 8))\n",
    "\n",
    "W1, = plt.plot(x, w[0], color='red')\n",
    "\n",
    "ax.set_ylim((-1.2, 1.2))\n",
    "\n",
    "\n",
    "def animate(frame):\n",
    "    W1.set_data(x, w[frame * 1000, :])\n",
    "    #ax.set_title(f\"t={round(t[frame * 1000], 3)}\")\n",
    "    return W1,\n",
    "\n",
    "\n",
    "anim = animation.FuncAnimation(fig, animate, frames=100, interval=100)\n",
    "plt.close()\n",
    "\n",
    "anim.save(OUTPUT_PATH + \"wave1d.mp4\", dpi=100)\n",
    "IPython.display.Video(OUTPUT_PATH + \"wave1d.mp4\", width=80 * 8, height=80 * 8)\n"
   ]
  },
  {
   "cell_type": "markdown",
   "metadata": {
    "pycharm": {
     "name": "#%% md\n"
    }
   },
   "source": [
    "## Wave Equation 2D\n",
    "\n",
    "$$\\frac{\\partial^2 u}{\\partial t^2} = c^2\\left(\\frac{\\partial^2 u}{\\partial x^2} + \\frac{\\partial^2 u}{\\partial y^2} \\right)$$\n",
    "\n",
    "\n"
   ]
  },
  {
   "cell_type": "code",
   "execution_count": 4,
   "metadata": {
    "ExecuteTime": {
     "end_time": "2021-07-27T14:00:02.071270Z",
     "start_time": "2021-07-27T13:44:09.978226Z"
    }
   },
   "outputs": [],
   "source": [
    "t, dt = np.linspace(0, 10, 100000, retstep=True)\n",
    "x, dx = np.linspace(-4, 4, 50, retstep=True)\n",
    "y, dy = np.linspace(-4, 4, 50, retstep=True)\n",
    "X, Y = np.meshgrid(x, y)\n",
    "X = X.T\n",
    "Y = Y.T\n",
    "\n",
    "nt = len(t)\n",
    "nx = len(x)\n",
    "ny = len(x)\n",
    "\n",
    "w = np.zeros((nt, nx, ny))\n",
    "w[0] = w[1] = np.zeros_like(X)\n",
    "\n",
    "c = 0.7\n",
    "\n",
    "for _t in range(2, nt):\n",
    "    for _x in range(1, nx - 1):\n",
    "        for _y in range(1, ny - 1):\n",
    "            w[_t, _x, _y] = 2 * w[_t - 1, _x, _y] - w[_t - 2, _x, _y] + c ** 2 * ((dt / dx) ** 2 * (\n",
    "                    w[_t - 1, _x + 1, _y] - 2 * w[_t - 1, _x, _y] + w[_t - 1, _x - 1, _y]) + (dt / dy) ** 2 * (\n",
    "                                              w[_t - 1, _x, _y + 1] - 2 * w[_t - 1, _x, _y] + w[_t - 1, _x, _y - 1]))\n",
    "    # boundary: reflecting\n",
    "    w[_t, :, 0] = 0\n",
    "    w[_t, :, -1] = 0\n",
    "    w[_t, 0, :] = 0\n",
    "    w[_t, -1, :] = 0\n",
    "\n",
    "    # additional\n",
    "    w[_t, 24, 24] = 0.125 * np.sin(t[_t] * np.pi)\n"
   ]
  },
  {
   "cell_type": "code",
   "execution_count": 12,
   "metadata": {
    "ExecuteTime": {
     "end_time": "2021-07-27T14:40:46.732139Z",
     "start_time": "2021-07-27T14:31:41.878105Z"
    },
    "pycharm": {
     "name": "#%%\n"
    }
   },
   "outputs": [
    {
     "data": {
      "text/html": [
       "<video src=\"out/WAVE-EQUATION/wave2d.mp4\" controls  width=\"640\"  height=\"640\">\n",
       "      Your browser does not support the <code>video</code> element.\n",
       "    </video>"
      ],
      "text/plain": [
       "<IPython.core.display.Video object>"
      ]
     },
     "execution_count": 12,
     "metadata": {},
     "output_type": "execute_result"
    }
   ],
   "source": [
    "fig, ax = plt.subplots(figsize=(6, 6))\n",
    "\n",
    "lignite_norm = plt.Normalize(-0.05, 0.05)\n",
    "\n",
    "\n",
    "W1 = ax.imshow(w[0], norm=lignite_norm, cmap=plt.cm.Blues)\n",
    "\n",
    "fig.colorbar(plt.cm.ScalarMappable(lignite_norm, cmap=plt.cm.Blues))\n",
    "\n",
    "def animate(frame):\n",
    "    W1.set_data(w[frame*10])\n",
    "    fig.canvas.flush_events()\n",
    "    return W1,\n",
    "\n",
    "anim = animation.FuncAnimation(fig, animate, frames=10000, interval=1)\n",
    "plt.close()\n",
    "\n",
    "anim.save(OUTPUT_PATH + \"wave2d.mp4\", dpi=100)\n",
    "IPython.display.Video(OUTPUT_PATH + \"wave2d.mp4\", width=80 * 8, height=80 * 8)\n"
   ]
  },
  {
   "cell_type": "code",
   "execution_count": 112,
   "metadata": {
    "ExecuteTime": {
     "end_time": "2021-07-27T15:50:40.227373Z",
     "start_time": "2021-07-27T15:49:45.592144Z"
    }
   },
   "outputs": [
    {
     "data": {
      "text/html": [
       "<video src=\"out/WAVE-EQUATION/wave2d-3d.mp4\" controls  width=\"880\"  height=\"800\">\n",
       "      Your browser does not support the <code>video</code> element.\n",
       "    </video>"
      ],
      "text/plain": [
       "<IPython.core.display.Video object>"
      ]
     },
     "execution_count": 112,
     "metadata": {},
     "output_type": "execute_result"
    }
   ],
   "source": [
    "fig, ax = plt.subplots(subplot_kw={'projection': '3d'}, figsize=(11, 10))\n",
    "\n",
    "surf = ax.plot_surface(X, Y, w[0], facecolors=plt.cm.BuPu(lignite_norm(w[0])), linewidth=1.5)\n",
    "surf.set_facecolor(\"white\")\n",
    "\n",
    "ax.set_zlim((-0.05, 0.05))\n",
    "\n",
    "def animate(frame):\n",
    "    ax.clear()\n",
    "    surf = ax.plot_surface(X, Y, w[frame*1000], facecolors=plt.cm.BuPu(lignite_norm(w[frame*1000])), linewidth=1.5)\n",
    "    surf.set_facecolor(\"white\")\n",
    "    \n",
    "    ax.set_zlim((-0.05, 0.05))\n",
    "\n",
    "    return surf,\n",
    "\n",
    "anim = animation.FuncAnimation(fig, animate, frames=100, interval=100)\n",
    "plt.close()\n",
    "\n",
    "anim.save(OUTPUT_PATH + \"wave2d-3d.mp4\", dpi=100)\n",
    "IPython.display.Video(OUTPUT_PATH + \"wave2d-3d.mp4\", width=110 * 8, height=100 * 8)"
   ]
  },
  {
   "cell_type": "markdown",
   "metadata": {
    "ExecuteTime": {
     "end_time": "2021-07-27T15:50:40.821615Z",
     "start_time": "2021-07-27T15:50:40.260513Z"
    }
   },
   "source": [
    "# Wave Equation에서의 Boundary Condition"
   ]
  },
  {
   "cell_type": "code",
   "execution_count": null,
   "metadata": {},
   "outputs": [],
   "source": []
  },
  {
   "cell_type": "code",
   "execution_count": null,
   "metadata": {},
   "outputs": [],
   "source": []
  }
 ],
 "metadata": {
  "hide_input": false,
  "kernelspec": {
   "display_name": "Python 3",
   "language": "python",
   "name": "python3"
  },
  "language_info": {
   "codemirror_mode": {
    "name": "ipython",
    "version": 3
   },
   "file_extension": ".py",
   "mimetype": "text/x-python",
   "name": "python",
   "nbconvert_exporter": "python",
   "pygments_lexer": "ipython3",
   "version": "3.7.6"
  },
  "toc": {
   "base_numbering": 1,
   "nav_menu": {},
   "number_sections": true,
   "sideBar": true,
   "skip_h1_title": false,
   "title_cell": "Table of Contents",
   "title_sidebar": "Contents",
   "toc_cell": false,
   "toc_position": {
    "height": "calc(100% - 180px)",
    "left": "10px",
    "top": "150px",
    "width": "374px"
   },
   "toc_section_display": true,
   "toc_window_display": true
  },
  "varInspector": {
   "cols": {
    "lenName": 16,
    "lenType": 16,
    "lenVar": 40
   },
   "kernels_config": {
    "python": {
     "delete_cmd_postfix": "",
     "delete_cmd_prefix": "del ",
     "library": "var_list.py",
     "varRefreshCmd": "print(var_dic_list())"
    },
    "r": {
     "delete_cmd_postfix": ") ",
     "delete_cmd_prefix": "rm(",
     "library": "var_list.r",
     "varRefreshCmd": "cat(var_dic_list()) "
    }
   },
   "types_to_exclude": [
    "module",
    "function",
    "builtin_function_or_method",
    "instance",
    "_Feature"
   ],
   "window_display": false
  }
 },
 "nbformat": 4,
 "nbformat_minor": 1
}