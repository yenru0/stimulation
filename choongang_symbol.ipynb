{
 "cells": [
  {
   "cell_type": "code",
   "execution_count": 2,
   "metadata": {
    "ExecuteTime": {
     "end_time": "2021-08-03T10:44:14.630733Z",
     "start_time": "2021-08-03T10:44:14.620734Z"
    }
   },
   "outputs": [],
   "source": [
    "import numpy as np\n",
    "import matplotlib.pyplot as plt\n",
    "import matplotlib.animation as animation\n",
    "import matplotlib.ticker as ticker\n",
    "import IPython.display\n",
    "\n",
    "plt.rcParams['font.family'] = [\"D2Coding\"]"
   ]
  },
  {
   "cell_type": "markdown",
   "metadata": {},
   "source": [
    "# 중앙고 교표 재현\n",
    "\n",
    "![중앙고 교표](./assets/choongang_symbol/ca.png)\n",
    "\n",
    "중앙고 교표 모습이다."
   ]
  },
  {
   "cell_type": "markdown",
   "metadata": {},
   "source": [
    "# 메커니즘\n",
    "\n",
    "중앙고 교표를 최소 단위 별로 잘라 그것을 그린다.\n",
    "\n",
    "$$\\{t\\} = t - \\lfloor t \\rfloor$$\n",
    "라 할 때,\n",
    "\n",
    "$$\n",
    "L(t)=\n",
    "\\begin{cases}\n",
    "(\\cos{2\\pi \\{t\\}},\\,\\sin{2\\pi \\{t\\}}) & \\quad (0\\leq t < 1) \\\\\n",
    "0.7(\\cos{\\pi \\{t\\}},\\,\\sin(\\pi \\{t\\})) & \\quad (1\\leq t < 2) \\\\\n",
    "(0,\\, 1-2\\{t\\}) & \\quad (2\\leq t < 3) \\\\\n",
    "(1 - 2\\{t\\},\\, 0) & \\quad (3 \\leq t < 4) \\\\\n",
    "(-\\frac{\\sqrt{2}}{2}(1-\\{t\\}),\\,- \\frac{\\sqrt{2}}{2}(1-\\{t\\})) & \\quad (4 \\leq t < 5) \\\\\n",
    "(\\frac{\\sqrt{2}}{2}(1-\\{t\\}),\\,-\\frac{\\sqrt{2}}{2}(1-\\{t\\})) & \\quad ( 5 \\leq t \\leq 6)\n",
    "\\end{cases}$$"
   ]
  },
  {
   "cell_type": "code",
   "execution_count": 7,
   "metadata": {
    "ExecuteTime": {
     "end_time": "2021-08-03T11:16:44.541696Z",
     "start_time": "2021-08-03T11:16:44.534139Z"
    }
   },
   "outputs": [],
   "source": [
    "def lines(t: float):\n",
    "    if 0 <= t < 1:\n",
    "        t %= 1\n",
    "        return np.cos(2*np.pi*t), np.sin(2*np.pi*t)\n",
    "    elif 1 <= t < 2:\n",
    "        t %= 1\n",
    "        return 0.7 * np.cos(np.pi*t), 0.7 * np.sin(np.pi*t)\n",
    "    elif 2 <= t < 3:\n",
    "        t %= 1\n",
    "        return 0, 1 - 2*t\n",
    "    elif 3 <= t < 4:\n",
    "        t %= 1\n",
    "        return 1 - 2*t, 0\n",
    "    elif 4 <= t < 5:\n",
    "        t %= 1\n",
    "        return - np.sqrt(2)/2 * (1 - t), - np.sqrt(2)/2 * (1 - t)\n",
    "    elif 5 <= t <= 6:\n",
    "        t %= 1\n",
    "        return np.sqrt(2)/2 * (1 - t), - np.sqrt(2)/2 * (1 - t)"
   ]
  },
  {
   "cell_type": "code",
   "execution_count": 18,
   "metadata": {
    "ExecuteTime": {
     "end_time": "2021-08-03T11:32:33.109607Z",
     "start_time": "2021-08-03T11:32:32.083473Z"
    }
   },
   "outputs": [
    {
     "data": {
      "image/png": "[encoded data removed]",
      "text/plain": [
       "<Figure size 504x504 with 1 Axes>"
      ]
     },
     "metadata": {
      "needs_background": "light"
     },
     "output_type": "display_data"
    }
   ],
   "source": [
    "fig, ax = plt.subplots(figsize=(7, 7))\n",
    "\n",
    "t = np.linspace(0, 6, 100000)\n",
    "z = np.array([lines(_t) for _t in t])\n",
    "x = z[:, 0]\n",
    "y = z[:, 1]\n",
    "\n",
    "ax.scatter(x, y, s = 250, color='crimson')\n",
    "\n",
    "plt.show()"
   ]
  },
  {
   "cell_type": "code",
   "execution_count": null,
   "metadata": {},
   "outputs": [],
   "source": []
  }
 ],
 "metadata": {
  "hide_input": false,
  "kernelspec": {
   "display_name": "Python 3",
   "language": "python",
   "name": "python3"
  },
  "language_info": {
   "codemirror_mode": {
    "name": "ipython",
    "version": 3
   },
   "file_extension": ".py",
   "mimetype": "text/x-python",
   "name": "python",
   "nbconvert_exporter": "python",
   "pygments_lexer": "ipython3",
   "version": "3.7.6"
  },
  "toc": {
   "base_numbering": 1,
   "nav_menu": {},
   "number_sections": true,
   "sideBar": true,
   "skip_h1_title": false,
   "title_cell": "Table of Contents",
   "title_sidebar": "Contents",
   "toc_cell": false,
   "toc_position": {},
   "toc_section_display": true,
   "toc_window_display": false
  },
  "varInspector": {
   "cols": {
    "lenName": 16,
    "lenType": 16,
    "lenVar": 40
   },
   "kernels_config": {
    "python": {
     "delete_cmd_postfix": "",
     "delete_cmd_prefix": "del ",
     "library": "var_list.py",
     "varRefreshCmd": "print(var_dic_list())"
    },
    "r": {
     "delete_cmd_postfix": ") ",
     "delete_cmd_prefix": "rm(",
     "library": "var_list.r",
     "varRefreshCmd": "cat(var_dic_list()) "
    }
   },
   "types_to_exclude": [
    "module",
    "function",
    "builtin_function_or_method",
    "instance",
    "_Feature"
   ],
   "window_display": false
  }
 },
 "nbformat": 4,
 "nbformat_minor": 1
}