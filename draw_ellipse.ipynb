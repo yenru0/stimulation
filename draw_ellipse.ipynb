{
 "cells": [
  {
   "cell_type": "code",
   "execution_count": 3,
   "metadata": {
    "collapsed": true
   },
   "outputs": [],
   "source": [
    "import numpy as np\n",
    "import matplotlib.pyplot as plt\n",
    "import matplotlib.animation as animation\n",
    "import matplotlib.ticker as ticker\n",
    "import IPython.display\n",
    "\n",
    "plt.rcParams['font.family'] = [\"D2Coding\"]"
   ]
  },
  {
   "cell_type": "markdown",
   "metadata": {
    "pycharm": {
     "name": "#%% md\n"
    }
   },
   "source": [
    "# 이차곡선 그리기 어렵다\n",
    "내가 만난 첫번째 문제는 타원 그리기는 일반적인 함수 그리기와 달리 이루어지기 힘들다는 것이다.\n",
    "\n",
    "일반적으로 함수는 정의역에 대해 하나의 대응을 갖기 때문에 상관이 없다.\n",
    "하지만 이차곡선의 경우 하나의 값에 여러 갑이 대응될 수 있다. 따라서 단순한 함수의 계산으로는 그것이 잘 이루어지지 못한다.\n",
    "\n",
    "일단 그 여러 대응을 고려하지 않고 이차곡선을 여러 함수로 분리해 그려보았다.\n",
    "\n",
    "예를 들어 타원 $\\frac{x^2}{36}+\\frac{y^2}{9} = 1$을 다음과 같이 $y \\geq 0$일 때와 $y \\leq 0$일 때를 분리해서 그려볼 것이다.\n",
    "\n",
    "$$y=\\frac{\\sqrt{36-x^2}}{2}\\quad \\text{or}\\quad y=-\\frac{\\sqrt{36-x^2}}{2}$$"
   ]
  },
  {
   "cell_type": "code",
   "execution_count": 14,
   "metadata": {
    "ExecuteTime": {
     "end_time": "2021-03-31T09:50:45.275334Z",
     "start_time": "2021-03-31T09:50:45.168316Z"
    },
    "pycharm": {
     "name": "#%%\n"
    }
   },
   "outputs": [
    {
     "data": {
      "image/png": "[encoded data removed]",
      "text/plain": [
       "<Figure size 432x288 with 1 Axes>"
      ]
     },
     "metadata": {
      "needs_background": "light"
     },
     "output_type": "display_data"
    }
   ],
   "source": [
    "fig, ax = plt.subplots()\n",
    "ax.set_ylim((-6.5, 6.5))\n",
    "\n",
    "domain = np.linspace(-6, 6, 100)\n",
    "\n",
    "f = lambda x: np.sqrt(36-x**2)/2\n",
    "\n",
    "ax.scatter(domain, f(domain), color=\"red\")\n",
    "ax.scatter(domain, -f(domain), color=\"blue\")\n",
    "\n",
    "ax.grid()\n",
    "plt.show()\n",
    "\n"
   ]
  },
  {
   "cell_type": "code",
   "execution_count": 19,
   "metadata": {
    "ExecuteTime": {
     "end_time": "2021-03-31T09:57:47.827416Z",
     "start_time": "2021-03-31T09:57:47.730347Z"
    },
    "pycharm": {
     "name": "#%%\n"
    }
   },
   "outputs": [
    {
     "data": {
      "image/png": "[encoded data removed]",
      "text/plain": [
       "<Figure size 432x288 with 1 Axes>"
      ]
     },
     "metadata": {
      "needs_background": "light"
     },
     "output_type": "display_data"
    }
   ],
   "source": [
    "fig, ax = plt.subplots()\n",
    "ax.set_ylim((-6.5, 6.5))\n",
    "\n",
    "# 쌍곡선은 domain을 두번 나눠야됨\n",
    "domain_left = np.linspace(-6, -3, 100)\n",
    "domain_right = np.linspace(3, 6, 100)\n",
    "\n",
    "f = lambda x: 2*np.sqrt(x**2-9)/3\n",
    "\n",
    "ax.scatter(domain_left, f(domain_left), color=\"red\")\n",
    "ax.scatter(domain_right, f(domain_right), color=\"red\")\n",
    "ax.scatter(domain_left, -f(domain_left), color=\"blue\")\n",
    "ax.scatter(domain_right, -f(domain_right), color=\"blue\")\n",
    "\n",
    "ax.grid()\n",
    "plt.show()"
   ]
  },
  {
   "cell_type": "markdown",
   "metadata": {},
   "source": [
    "# 이렇게 그리면 힘듬\n",
    "\n",
    "이렇게 그리면 분명 잘 나오기는 하지만 꼭 정의역을 분할해줘야 되고, 두 값이 나오지 않는 하나의 함수 형태로 분할해줘야되는 번거로움이 생긴다. 이외에도 타원에서 꼭짓점 부분의 경우 급경사 때문에 낮은 정의역 개수를 쓸 경우 품질이 제대로 보장되지 않는다는 문제점이 있다. 이는 만약 다양한 상황에서 곡선을 그려야 할경우 불편을 초래할 수 있다.\n",
    "\n",
    "하지만 이런 단점에도 그냥 모든 상황에서 약간의 조정이 필요하지만 식이 주어진 곡선을 그릴 수 있다는 것이 장점 같다."
   ]
  },
  {
   "cell_type": "code",
   "execution_count": null,
   "metadata": {},
   "outputs": [],
   "source": []
  }
 ],
 "metadata": {
  "hide_input": false,
  "kernelspec": {
   "display_name": "Python 3",
   "language": "python",
   "name": "python3"
  },
  "language_info": {
   "codemirror_mode": {
    "name": "ipython",
    "version": 3
   },
   "file_extension": ".py",
   "mimetype": "text/x-python",
   "name": "python",
   "nbconvert_exporter": "python",
   "pygments_lexer": "ipython3",
   "version": "3.7.6"
  },
  "toc": {
   "base_numbering": 1,
   "nav_menu": {},
   "number_sections": true,
   "sideBar": true,
   "skip_h1_title": false,
   "title_cell": "Table of Contents",
   "title_sidebar": "Contents",
   "toc_cell": false,
   "toc_position": {},
   "toc_section_display": true,
   "toc_window_display": false
  },
  "varInspector": {
   "cols": {
    "lenName": 16,
    "lenType": 16,
    "lenVar": 40
   },
   "kernels_config": {
    "python": {
     "delete_cmd_postfix": "",
     "delete_cmd_prefix": "del ",
     "library": "var_list.py",
     "varRefreshCmd": "print(var_dic_list())"
    },
    "r": {
     "delete_cmd_postfix": ") ",
     "delete_cmd_prefix": "rm(",
     "library": "var_list.r",
     "varRefreshCmd": "cat(var_dic_list()) "
    }
   },
   "types_to_exclude": [
    "module",
    "function",
    "builtin_function_or_method",
    "instance",
    "_Feature"
   ],
   "window_display": false
  }
 },
 "nbformat": 4,
 "nbformat_minor": 1
}